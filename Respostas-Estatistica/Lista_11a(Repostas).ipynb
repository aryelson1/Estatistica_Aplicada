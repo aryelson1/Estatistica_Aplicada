{
 "cells": [
  {
   "cell_type": "code",
   "execution_count": 1,
   "id": "4af3590e",
   "metadata": {},
   "outputs": [],
   "source": [
    "import pandas as pd\n",
    "import numpy as np\n",
    "import matplotlib.pyplot as plt"
   ]
  },
  {
   "cell_type": "markdown",
   "id": "7b12687c",
   "metadata": {},
   "source": [
    "###### 1. Quer se estudar o número de erros de impressão de um livro. Para isso escolheu-se uma amostra de 50 páginas, encontrando-se o número de erros por página da tabela abaixo.\n",
    "(a) Qual o número médio de erros por página?"
   ]
  },
  {
   "cell_type": "code",
   "execution_count": 2,
   "id": "646d8085",
   "metadata": {},
   "outputs": [
    {
     "data": {
      "text/plain": [
       "0.66"
      ]
     },
     "execution_count": 2,
     "metadata": {},
     "output_type": "execute_result"
    }
   ],
   "source": [
    "erros = [0,1,2,3,4]\n",
    "freq = [25,20,3,1,1]\n",
    "a = 0\n",
    "for i in range(len(erros)):\n",
    "    a += erros[i]*freq[i]\n",
    "    \n",
    "media = a/sum(freq)\n",
    "media"
   ]
  },
  {
   "cell_type": "markdown",
   "id": "581a449f",
   "metadata": {},
   "source": [
    "(b) E o número mediano?"
   ]
  },
  {
   "cell_type": "code",
   "execution_count": 3,
   "id": "abb5f0cf",
   "metadata": {},
   "outputs": [
    {
     "data": {
      "text/plain": [
       "20"
      ]
     },
     "execution_count": 3,
     "metadata": {},
     "output_type": "execute_result"
    }
   ],
   "source": [
    "A_ = sorted(freq)\n",
    "mediano = A_[int((len(freq)+1)/2)]\n",
    "mediano"
   ]
  },
  {
   "cell_type": "markdown",
   "id": "67bd92d5",
   "metadata": {},
   "source": [
    "(c) Qual é o desvio padrão?\n"
   ]
  },
  {
   "cell_type": "code",
   "execution_count": 4,
   "id": "3f4601e1",
   "metadata": {},
   "outputs": [
    {
     "data": {
      "text/plain": [
       "0.8392854103342915"
      ]
     },
     "execution_count": 4,
     "metadata": {},
     "output_type": "execute_result"
    }
   ],
   "source": [
    "a = 0\n",
    "for i in range(len(erros)):\n",
    "    a += freq[i] * (erros[i] - media)**2\n",
    "desvio = (a/50)**0.5\n",
    "desvio"
   ]
  },
  {
   "cell_type": "markdown",
   "id": "c3a2234a",
   "metadata": {},
   "source": [
    "(d) Faça uma representação gráfica para a distribuição.\n"
   ]
  },
  {
   "cell_type": "code",
   "execution_count": 5,
   "id": "3a4b98b6",
   "metadata": {
    "scrolled": true
   },
   "outputs": [
    {
     "data": {
      "text/plain": [
       "<matplotlib.legend.Legend at 0x15e8b5a0970>"
      ]
     },
     "execution_count": 5,
     "metadata": {},
     "output_type": "execute_result"
    },
    {
     "data": {
      "image/png": "[encoded data removed]",
      "text/plain": [
       "<Figure size 432x288 with 1 Axes>"
      ]
     },
     "metadata": {},
     "output_type": "display_data"
    }
   ],
   "source": [
    "df = pd.DataFrame(freq,index=[\"0 erros\",'1 erros','2 erros ','3 erros','4 erros'],columns=list('A'))          \n",
    "df.plot.pie(subplots=True)\n",
    "plt.legend(loc=2)"
   ]
  },
  {
   "cell_type": "markdown",
   "id": "b5815e2a",
   "metadata": {},
   "source": [
    "(e) Se o livro tem 500 páginas, qual o número total de erros esperado no livro?"
   ]
  },
  {
   "cell_type": "code",
   "execution_count": 6,
   "id": "e35de402",
   "metadata": {},
   "outputs": [
    {
     "data": {
      "text/plain": [
       "89"
      ]
     },
     "execution_count": 6,
     "metadata": {},
     "output_type": "execute_result"
    }
   ],
   "source": [
    "int((desvio - media) * 500)"
   ]
  },
  {
   "cell_type": "markdown",
   "id": "b23507f4",
   "metadata": {},
   "source": [
    "###### 2. As taxas de juros recebidas por 10 ações durante um certo período foram (medidas em porcentagem) 2,59; 2,64; 2,60; 2,62; 2,57; 2,55; 2,61; 2,50; 2,63; 2,64. Calcule a média, a mediana e o desvio padrão."
   ]
  },
  {
   "cell_type": "code",
   "execution_count": 7,
   "id": "96d8ec6c",
   "metadata": {},
   "outputs": [
    {
     "data": {
      "text/plain": [
       "2.5949999999999998"
      ]
     },
     "execution_count": 7,
     "metadata": {},
     "output_type": "execute_result"
    }
   ],
   "source": [
    "lista = [2.59, 2.64, 2.60, 2.62, 2.57, 2.55, 2.61, 2.50, 2.63, 2.64]\n",
    "media = sum(lista)/len(lista)\n",
    "media"
   ]
  },
  {
   "cell_type": "code",
   "execution_count": 8,
   "id": "2704803c",
   "metadata": {},
   "outputs": [
    {
     "data": {
      "text/plain": [
       "2.605"
      ]
     },
     "execution_count": 8,
     "metadata": {},
     "output_type": "execute_result"
    }
   ],
   "source": [
    "A_ = sorted(lista)\n",
    "B_ = (A_[4] + A_[5]) / 2 #Tamanho / 2 + tamanho / 2 + 1 \n",
    "B_"
   ]
  },
  {
   "cell_type": "code",
   "execution_count": 9,
   "id": "317d2ed9",
   "metadata": {},
   "outputs": [
    {
     "data": {
      "text/plain": [
       "0.042249260348555265"
      ]
     },
     "execution_count": 9,
     "metadata": {},
     "output_type": "execute_result"
    }
   ],
   "source": [
    "a = 0\n",
    "for i in range(len(lista)):\n",
    "    a += (lista[i] - media)**2\n",
    "desvio = (a/len(lista))**0.5\n",
    "desvio"
   ]
  },
  {
   "cell_type": "markdown",
   "id": "27527247",
   "metadata": {},
   "source": [
    "###### 3. Para facilitar um projeto de ampliação da rede de esgoto de uma certa região de uma cidade, as autoridades tomaram uma amostra de tamanho 50 dos 270 quarteirões que compõem a região, e foram encontrados os seguintes números de casas por quarteirão:"
   ]
  },
  {
   "cell_type": "markdown",
   "id": "d79e9367",
   "metadata": {},
   "source": [
    "(a) Use cinco intervalos e construa um histograma."
   ]
  },
  {
   "cell_type": "code",
   "execution_count": 60,
   "id": "456c71f4",
   "metadata": {},
   "outputs": [],
   "source": [
    "dados = pd.DataFrame([[2, 2, 3, 10, 13, 14, 15, 15, 16, 16,],\n",
    "                      [18, 18, 20, 21, 22, 22, 23, 24, 25, 25,],\n",
    "                      [26, 27, 29, 29, 30, 32, 36, 42, 44, 45,],\n",
    "                      [45, 46, 48, 52, 58, 59, 61, 61, 61, 65,],\n",
    "                      [66, 66, 68, 75, 78, 80, 89, 90, 92, 97]],\n",
    "                    columns = list(\"ABCDEFGHIJ\"))\n",
    "\n",
    "\n",
    "info, classes = np.histogram(dados, bins=5)"
   ]
  },
  {
   "cell_type": "code",
   "execution_count": 61,
   "id": "0eaedd54",
   "metadata": {
    "scrolled": true
   },
   "outputs": [
    {
     "data": {
      "text/plain": [
       "A    26.0\n",
       "B    27.0\n",
       "C    29.0\n",
       "D    29.0\n",
       "E    30.0\n",
       "F    32.0\n",
       "G    36.0\n",
       "H    42.0\n",
       "I    44.0\n",
       "J    45.0\n",
       "dtype: float64"
      ]
     },
     "execution_count": 61,
     "metadata": {},
     "output_type": "execute_result"
    }
   ],
   "source": [
    "dados.median()"
   ]
  },
  {
   "cell_type": "markdown",
   "id": "99a76cba",
   "metadata": {},
   "source": [
    "(b) Determine uma medida de posição central e uma medida de dispersão"
   ]
  },
  {
   "cell_type": "code",
   "execution_count": 48,
   "id": "8bc80b84",
   "metadata": {},
   "outputs": [
    {
     "data": {
      "text/plain": [
       "A    22.159422\n",
       "B    22.238705\n",
       "C    22.508665\n",
       "D    23.311800\n",
       "E    24.169402\n",
       "F    24.556873\n",
       "G    27.043668\n",
       "H    26.911707\n",
       "I    27.104243\n",
       "J    29.117692\n",
       "dtype: float64"
      ]
     },
     "execution_count": 48,
     "metadata": {},
     "output_type": "execute_result"
    }
   ],
   "source": [
    "dados.std(ddof=0)"
   ]
  },
  {
   "cell_type": "markdown",
   "id": "14174097",
   "metadata": {},
   "source": [
    "###### 4. (a) Dê uma situação prática onde você acha que a mediana é uma medida mais apropriada do que a média.\n"
   ]
  },
  {
   "cell_type": "markdown",
   "id": "f2e44089",
   "metadata": {},
   "source": [
    "quando uma variável possui valores distantes que fazem a mediar tender pra mais ou menos do que deveria."
   ]
  },
  {
   "cell_type": "markdown",
   "id": "b0632bce",
   "metadata": {},
   "source": [
    "(b) Esboce um histograma onde a média e a mediana coincidem. Existe alguma classe\n",
    "de histogramas onde isso sempre acontece?\n"
   ]
  },
  {
   "cell_type": "markdown",
   "id": "2b237033",
   "metadata": {},
   "source": []
  },
  {
   "cell_type": "markdown",
   "id": "60869006",
   "metadata": {},
   "source": [
    "(c) Esboce os histogramas de três variáveis (X, Y e Z ) com a mesma média aritmética,\n",
    "mas com as variâncias ordenadas em ordem crescente."
   ]
  },
  {
   "cell_type": "code",
   "execution_count": null,
   "id": "dfb92c39",
   "metadata": {},
   "outputs": [],
   "source": []
  },
  {
   "cell_type": "markdown",
   "id": "dea52109",
   "metadata": {},
   "source": [
    "###### 5. Suponha que a variável de interesse tenha a distribuição como na figura abaixo. Você acha que a média é uma boa medida de posição? E a mediana? Justifique"
   ]
  },
  {
   "cell_type": "markdown",
   "id": "970a8d88",
   "metadata": {},
   "source": [
    "Neste caso nenhuma das duas medidas se encaixa, pois os picos e descidas são muito altos, com isso essas medidas não passam confiabilidade. "
   ]
  },
  {
   "cell_type": "code",
   "execution_count": 77,
   "id": "6cbc8159",
   "metadata": {},
   "outputs": [
    {
     "data": {
      "text/html": [
       "<div>\n",
       "<style scoped>\n",
       "    .dataframe tbody tr th:only-of-type {\n",
       "        vertical-align: middle;\n",
       "    }\n",
       "\n",
       "    .dataframe tbody tr th {\n",
       "        vertical-align: top;\n",
       "    }\n",
       "\n",
       "    .dataframe thead th {\n",
       "        text-align: right;\n",
       "    }\n",
       "</style>\n",
       "<table border=\"1\" class=\"dataframe\">\n",
       "  <thead>\n",
       "    <tr style=\"text-align: right;\">\n",
       "      <th></th>\n",
       "      <th>Número de filhos</th>\n",
       "      <th>Freqüência de famílias</th>\n",
       "    </tr>\n",
       "  </thead>\n",
       "  <tbody>\n",
       "    <tr>\n",
       "      <th>0</th>\n",
       "      <td>0</td>\n",
       "      <td>7</td>\n",
       "    </tr>\n",
       "    <tr>\n",
       "      <th>1</th>\n",
       "      <td>1</td>\n",
       "      <td>20</td>\n",
       "    </tr>\n",
       "    <tr>\n",
       "      <th>2</th>\n",
       "      <td>2</td>\n",
       "      <td>28</td>\n",
       "    </tr>\n",
       "    <tr>\n",
       "      <th>3</th>\n",
       "      <td>3</td>\n",
       "      <td>19</td>\n",
       "    </tr>\n",
       "    <tr>\n",
       "      <th>4</th>\n",
       "      <td>4</td>\n",
       "      <td>7</td>\n",
       "    </tr>\n",
       "    <tr>\n",
       "      <th>5</th>\n",
       "      <td>5</td>\n",
       "      <td>4</td>\n",
       "    </tr>\n",
       "    <tr>\n",
       "      <th>6</th>\n",
       "      <td>mais que 5</td>\n",
       "      <td>5</td>\n",
       "    </tr>\n",
       "  </tbody>\n",
       "</table>\n",
       "</div>"
      ],
      "text/plain": [
       "  Número de filhos  Freqüência de famílias\n",
       "0                0                       7\n",
       "1                1                      20\n",
       "2                2                      28\n",
       "3                3                      19\n",
       "4                4                       7\n",
       "5                5                       4\n",
       "6       mais que 5                       5"
      ]
     },
     "execution_count": 77,
     "metadata": {},
     "output_type": "execute_result"
    }
   ],
   "source": [
    "lst1 = ['0','1' ,'2' ,'3' ,'4' ,'5' ,'mais que 5']\n",
    "lst2 = [7, 20 ,28, 19, 7, 4 ,5]\n",
    "df = pd.DataFrame(list(zip(lst1,lst2)), columns = ['Número de filhos','Freqüência de famílias'])\n",
    "df"
   ]
  },
  {
   "cell_type": "markdown",
   "id": "b0f990b3",
   "metadata": {},
   "source": [
    "(a) Qual a mediana do número de filhos?"
   ]
  },
  {
   "cell_type": "code",
   "execution_count": 80,
   "id": "77b991c0",
   "metadata": {},
   "outputs": [
    {
     "data": {
      "text/plain": [
       "7.0"
      ]
     },
     "execution_count": 80,
     "metadata": {},
     "output_type": "execute_result"
    }
   ],
   "source": [
    "df['Freqüência de famílias'].median()"
   ]
  },
  {
   "cell_type": "markdown",
   "id": "99459c87",
   "metadata": {},
   "source": [
    "(b) E a moda?"
   ]
  },
  {
   "cell_type": "code",
   "execution_count": 79,
   "id": "fa214418",
   "metadata": {
    "scrolled": true
   },
   "outputs": [
    {
     "data": {
      "text/plain": [
       "0    7\n",
       "dtype: int64"
      ]
     },
     "execution_count": 79,
     "metadata": {},
     "output_type": "execute_result"
    }
   ],
   "source": [
    "df['Freqüência de famílias'].mode()"
   ]
  },
  {
   "cell_type": "markdown",
   "id": "9e9b1128",
   "metadata": {},
   "source": [
    "(c) Que problemas você enfrentaria para calcular a média? Faça alguma suposição e\n",
    "encontre-a.\n"
   ]
  },
  {
   "cell_type": "code",
   "execution_count": 81,
   "id": "506123fb",
   "metadata": {},
   "outputs": [
    {
     "data": {
      "text/plain": [
       "12.857142857142858"
      ]
     },
     "execution_count": 81,
     "metadata": {},
     "output_type": "execute_result"
    }
   ],
   "source": [
    "df['Freqüência de famílias'].mean()"
   ]
  }
 ],
 "metadata": {
  "kernelspec": {
   "display_name": "Python 3",
   "language": "python",
   "name": "python3"
  },
  "language_info": {
   "codemirror_mode": {
    "name": "ipython",
    "version": 3
   },
   "file_extension": ".py",
   "mimetype": "text/x-python",
   "name": "python",
   "nbconvert_exporter": "python",
   "pygments_lexer": "ipython3",
   "version": "3.8.8"
  }
 },
 "nbformat": 4,
 "nbformat_minor": 5
}
