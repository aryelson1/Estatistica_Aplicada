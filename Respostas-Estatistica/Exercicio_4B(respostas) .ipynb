{
 "cells": [
  {
   "cell_type": "code",
   "execution_count": 1,
   "id": "b8d158b6",
   "metadata": {},
   "outputs": [],
   "source": [
    "import numpy as np\n",
    "import pandas as pd"
   ]
  },
  {
   "cell_type": "markdown",
   "id": "68974ca8",
   "metadata": {},
   "source": [
    "### Questão 1 "
   ]
  },
  {
   "cell_type": "markdown",
   "id": "e1f4cc5e",
   "metadata": {},
   "source": [
    "Relação de pesquisadores"
   ]
  },
  {
   "cell_type": "markdown",
   "id": "85dda7b8",
   "metadata": {},
   "source": [
    "Comecei baixando os DF com o comando PD.READ_CSV e usando o encoding para corrigir erro, salvei os arquivos com abreviação, RP( RELAÇÂO DE PESQUISADORES) + ANO do arquvio.\n",
    "\n",
    "A função Cancat foi usada para concatenar O DF de 2020 e 2019, logo apos usei a função Merge para mesclar o restante dos DF(Dois por vez) utilizando a coluna CAMPUS(Unnamed -> nome da coluna no arquivo). "
   ]
  },
  {
   "cell_type": "code",
   "execution_count": 2,
   "id": "f9071704",
   "metadata": {},
   "outputs": [],
   "source": [
    "rp2020 = pd.read_csv('https://documento.ifnmg.edu.br/action.php?kt_path_info=ktcore.actions.document.view&fDocumentId=39996',\n",
    "                 encoding='unicode_escape')\n",
    "rp2019 = pd.read_csv('https://documento.ifnmg.edu.br/action.php?kt_path_info=ktcore.actions.document.view&fDocumentId=36821',\n",
    "                 encoding='unicode_escape')\n",
    "rp2018 = pd.read_csv('https://documento.ifnmg.edu.br/action.php?kt_path_info=ktcore.actions.document.view&fDocumentId=33103',\n",
    "                 encoding='unicode_escape')\n",
    "rp2017 = pd.read_csv('https://documento.ifnmg.edu.br/action.php?kt_path_info=ktcore.actions.document.view&fDocumentId=26909',\n",
    "                 encoding='unicode_escape')\n",
    "\n",
    "rp2020_2019 = pd.concat([rp2020,rp2019],axis=1)\n",
    "rp20_19_18 = pd.merge(rp2020_2019,rp2018, left_on= \"Unnamed: 1\", right_on= \"Unnamed: 1\")\n",
    "rp20_19_18_17 = pd.merge(rp20_19_18,rp2017, left_on= \"Unnamed: 1\", right_on= \"Unnamed: 1\")\n",
    "Df_RP = rp20_19_18_17.rename(columns={'Unnamed: 1': 'Campus'})\n",
    "\n",
    "DF_RP = Df_RP.head(10)"
   ]
  },
  {
   "cell_type": "markdown",
   "id": "46c525f4",
   "metadata": {},
   "source": [
    "Relação de projetos de pesquisa realizados"
   ]
  },
  {
   "cell_type": "markdown",
   "id": "d16a6990",
   "metadata": {},
   "source": [
    "Comecei baixando os DF com o comando PD.READ_CSV e usando o encoding para corrigir erro, salvei os arquivos com abreviação, RPP( RELAÇÂO DE PROJETOS DE PESQUISA REALIZADOS) + ANO do arquvio.\n",
    "\n",
    "A função Cancat foi usada para concatenar O DF de 2020 e 2019, logo apos usei a função Merge para mesclar o restante dos DF(Dois por vez) utilizando a coluna CAMPUS(Projetos de Pesquisa Cadastrados em + ANO -> nome da coluna no arquivo)."
   ]
  },
  {
   "cell_type": "code",
   "execution_count": 3,
   "id": "7efbaeab",
   "metadata": {},
   "outputs": [],
   "source": [
    "rpp2020 = pd.read_csv('https://documento.ifnmg.edu.br/action.php?kt_path_info=ktcore.actions.document.view&fDocumentId=39994',\n",
    "                 encoding='UTF-8')\n",
    "rpp2019 = pd.read_csv('https://documento.ifnmg.edu.br/action.php?kt_path_info=ktcore.actions.document.view&fDocumentId=36822',\n",
    "                 encoding='unicode_escape')\n",
    "rpp2018 = pd.read_csv('https://documento.ifnmg.edu.br/action.php?kt_path_info=ktcore.actions.document.view&fDocumentId=33101',\n",
    "                 encoding='unicode_escape')\n",
    "rpp2017 = pd.read_csv('https://documento.ifnmg.edu.br/action.php?kt_path_info=ktcore.actions.document.view&fDocumentId=26911',\n",
    "                 encoding='unicode_escape')\n",
    "\n",
    "rpp2020_2019 = pd.concat([rpp2020,rpp2019],axis=1)\n",
    "\n",
    "#rpp2018 = rpp2018.rename(columns={'Projetos de Pesquisa Cadastrados em 2018': 'Campus'})\n",
    "rpp20_19_18 = pd.merge(rpp2020_2019,rpp2018, left_on= \"Campus\", right_on= \"Projetos de Pesquisa Cadastrados em 2018\")\n",
    "\n",
    "#rpp2017 = rpp2017.rename(columns={'Projetos de Pesquisa Cadastrados em 2017': 'Campus'})\n",
    "rpp20_19_18_17 = pd.merge(rpp20_19_18,rpp2017, left_on= \"Campus\", right_on= \"Projetos de Pesquisa Cadastrados em 2017\")\n",
    "DF_RPP = rpp20_19_18_17.head(10)"
   ]
  },
  {
   "cell_type": "markdown",
   "id": "80c416fc",
   "metadata": {},
   "source": [
    "Utilizando o merge mesclei o DF Relação de pesquisadores com Relação de projetos de pesquisa realizados"
   ]
  },
  {
   "cell_type": "code",
   "execution_count": 4,
   "id": "181c14b2",
   "metadata": {},
   "outputs": [],
   "source": [
    "DF_RP_RPP = pd.merge(DF_RP,DF_RPP, left_on = \"Campus\" , right_on = \"Campus\")"
   ]
  },
  {
   "cell_type": "markdown",
   "id": "6aa81e52",
   "metadata": {},
   "source": [
    "Eventos de Extensão"
   ]
  },
  {
   "cell_type": "markdown",
   "id": "134e5976",
   "metadata": {},
   "source": [
    "Comecei baixando os DF com o comando PD.READ_CSV e usando o encoding para corrigir erro, salvei os arquivos com abreviação, EE( EVENTOS DE EXTENSAO) + ANO do arquvio."
   ]
  },
  {
   "cell_type": "code",
   "execution_count": 5,
   "id": "ce1a2b04",
   "metadata": {},
   "outputs": [],
   "source": [
    "ee2019 = pd.read_csv('https://documento.ifnmg.edu.br/action.php?kt_path_info=ktcore.actions.document.view&fDocumentId=36480',\n",
    "                 encoding='unicode_escape')"
   ]
  },
  {
   "cell_type": "markdown",
   "id": "a264af32",
   "metadata": {},
   "source": [
    "Utilizando o merge mesclei RP + RPP com o DF de Eventos de Extensao"
   ]
  },
  {
   "cell_type": "code",
   "execution_count": 6,
   "id": "63bef163",
   "metadata": {},
   "outputs": [],
   "source": [
    "DF_Completo = pd.merge(DF_RP_RPP, ee2019, left_on = \"Campus\" , right_on = \"Campus\")"
   ]
  },
  {
   "cell_type": "markdown",
   "id": "62b1a4b6",
   "metadata": {},
   "source": [
    "Projetos de Extensão"
   ]
  },
  {
   "cell_type": "markdown",
   "id": "5e28c38d",
   "metadata": {},
   "source": [
    "Comecei baixando os DF com o comando PD.READ_CSV e usando o encoding para corrigir erro, salvei os arquivos com abreviação, PE(PROJETOS DE EXTENSAO) + ANO do arquvio."
   ]
  },
  {
   "cell_type": "code",
   "execution_count": 7,
   "id": "80ada5af",
   "metadata": {},
   "outputs": [],
   "source": [
    "pe2019 = pd.read_csv('https://documento.ifnmg.edu.br/action.php?kt_path_info=ktcore.actions.document.view&fDocumentId=36482',\n",
    "                 encoding='unicode_escape')\n"
   ]
  },
  {
   "cell_type": "markdown",
   "id": "5facdc63",
   "metadata": {},
   "source": [
    "Utilizando o Concat para concatenar RP + RPP + RE com o DF de Projetos de Extensão"
   ]
  },
  {
   "cell_type": "code",
   "execution_count": 8,
   "id": "a6481291",
   "metadata": {
    "scrolled": true
   },
   "outputs": [],
   "source": [
    "DF_Completo = pd.concat([DF_Completo,pe2019],axis=1)\n",
    "DF_Completo = DF_Completo.set_index(['Campus'])"
   ]
  },
  {
   "cell_type": "code",
   "execution_count": 9,
   "id": "b242d067",
   "metadata": {},
   "outputs": [],
   "source": [
    "DF_Completo.to_csv('Exercicio_4b.csv')"
   ]
  },
  {
   "cell_type": "markdown",
   "id": "01a3ea28",
   "metadata": {},
   "source": [
    "### QUESTÃO 2"
   ]
  },
  {
   "cell_type": "markdown",
   "id": "91b7fccb",
   "metadata": {},
   "source": [
    "Comecei baixando os DF com o comando PD.READ_CSV e usando o encoding para corrigir erro e sep para informar que será utilizado \";\" para separação no lugar da \",\". Salvei os arquivos com abreviação, DF_G(Data Frame Gasolina) + ANO do arquvio."
   ]
  },
  {
   "cell_type": "code",
   "execution_count": 10,
   "id": "0343bb30",
   "metadata": {},
   "outputs": [],
   "source": [
    "df_g_2017 = pd.read_csv('http://www.anp.gov.br/arquivos/dadosabertos/vc/vendas-gasolinaaviacao-municipio-2017.csv',\n",
    "                         encoding='unicode_escape',sep=';',\n",
    "                            low_memory=False)\n",
    "df_g_2016 = pd.read_csv('http://www.anp.gov.br/arquivos/dadosabertos/vc/vendas-gasolinaaviacao-municipio-2016.csv',\n",
    "                         encoding='unicode_escape',sep=';',\n",
    "                            low_memory=False)\n",
    "df_g_2015 = pd.read_csv('http://www.anp.gov.br/arquivos/dadosabertos/vc/vendas-gasolinaaviacao-municipio-2015.csv',\n",
    "                         encoding='unicode_escape',sep=';',\n",
    "                            low_memory=False)\n"
   ]
  },
  {
   "cell_type": "markdown",
   "id": "62994fb0",
   "metadata": {},
   "source": [
    "Usando a função concat para concatenar os DF de 2017, 2016 e 2015 na forma de linhas."
   ]
  },
  {
   "cell_type": "code",
   "execution_count": 16,
   "id": "fe313f10",
   "metadata": {},
   "outputs": [],
   "source": [
    "DF_C = pd.concat([df_g_2017, df_g_2016,df_g_2015])"
   ]
  },
  {
   "cell_type": "markdown",
   "id": "d2d791ba",
   "metadata": {},
   "source": [
    "usando a função set_index para alterar as colunas: ANO e ESTADO, no formado de index e gerando uma nova alteração no DF.\n",
    "\n",
    "E por ultimo a função to_json para salvar o DF em um arquivo do tipo JSON."
   ]
  },
  {
   "cell_type": "code",
   "execution_count": 18,
   "id": "68a5ed33",
   "metadata": {},
   "outputs": [],
   "source": [
    "DF_C = DF_C.set_index(['ANO','ESTADO'])\n",
    "DF_C.to_json(\"Exercicio_4B.json\", orient=\"split\")"
   ]
  },
  {
   "cell_type": "markdown",
   "id": "86434728",
   "metadata": {},
   "source": [
    "### (d) É necessário responder a pergunta: o que é JSON e quais as vantagens dele sobre o CSV?"
   ]
  },
  {
   "cell_type": "markdown",
   "id": "379fb680",
   "metadata": {},
   "source": [
    "O formato CSV representa conjuntos de registros com uma lista de campos idêntica, e costuma ser mais usados para exportação e importação de dados ou processamento de dados para análise e aprendizado de máquina. \n",
    "\n",
    "Já os arquivos formatados em JSON  são mais comuns em soluções de troca de dados acessados com maior frequência e que exigem respostas mais rápidas do sistema de armazenamento, e não apenas autodescritivo, mas também legível para humanos."
   ]
  }
 ],
 "metadata": {
  "kernelspec": {
   "display_name": "Python 3",
   "language": "python",
   "name": "python3"
  },
  "language_info": {
   "codemirror_mode": {
    "name": "ipython",
    "version": 3
   },
   "file_extension": ".py",
   "mimetype": "text/x-python",
   "name": "python",
   "nbconvert_exporter": "python",
   "pygments_lexer": "ipython3",
   "version": "3.8.8"
  }
 },
 "nbformat": 4,
 "nbformat_minor": 5
}
