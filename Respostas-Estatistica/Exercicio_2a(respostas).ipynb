{
 "cells": [
  {
   "cell_type": "markdown",
   "id": "5d7012cb",
   "metadata": {},
   "source": [
    "# IFPB - CAMPUS CAMPINA GRANDE\n",
    "\n",
    "# ALUNO: ARYELSON GONÇALVES MESSIAS  TURMA: A"
   ]
  },
  {
   "cell_type": "markdown",
   "id": "178cd67c",
   "metadata": {},
   "source": [
    "## Lista de Exercícios 2a"
   ]
  },
  {
   "cell_type": "markdown",
   "id": "4abe2db7",
   "metadata": {},
   "source": [
    "#### 1.Como importar a biblioteca numpy e verificar a versão utilizada?"
   ]
  },
  {
   "cell_type": "markdown",
   "id": "3e866200",
   "metadata": {},
   "source": [
    "Primeiramente vamos importar a biblioteca."
   ]
  },
  {
   "cell_type": "code",
   "execution_count": 1,
   "id": "46eaac3b",
   "metadata": {},
   "outputs": [],
   "source": [
    "import numpy as np"
   ]
  },
  {
   "cell_type": "markdown",
   "id": "b1b6c4c5",
   "metadata": {},
   "source": [
    "Agora vamos verificar a versão."
   ]
  },
  {
   "cell_type": "code",
   "execution_count": 2,
   "id": "d9ba2d28",
   "metadata": {
    "scrolled": true
   },
   "outputs": [
    {
     "name": "stdout",
     "output_type": "stream",
     "text": [
      "1.20.1\n"
     ]
    }
   ],
   "source": [
    "print (np.__version__)"
   ]
  },
  {
   "cell_type": "markdown",
   "id": "fa40de41",
   "metadata": {},
   "source": [
    "#### 2.Explique, com suas palavras, os conceitos de vetorização e broadcasting que Numpy implementa.\n"
   ]
  },
  {
   "cell_type": "markdown",
   "id": "f0e92640",
   "metadata": {},
   "source": [
    "    O termo broadcasting é usado para informar como a biblioteca numpy trata array diferentes maneiras durante operações artiméticas. Vetorização permite usar uma função em um array completo, no lugar de aplicar a função em um elemento por vez, o que é feito nas funções map e filter."
   ]
  },
  {
   "cell_type": "markdown",
   "id": "6dda412f",
   "metadata": {},
   "source": [
    "#### 3. Liste as diferenças entre uma lista, um dicionário, um array numpy, dando exemplos de aplicação de em que cada tipo seria mais interessante."
   ]
  },
  {
   "cell_type": "markdown",
   "id": "3ee544c6",
   "metadata": {},
   "source": [
    "    lista é um array que varia de tamanho e é mutavel de acordo com índices. O dicionário tem por diferença principal e visível que o índice pode não ser um número e pode não ser sequencial, utilizando uma key para indetificar os elementos. A chave utilizada é do tipo caractere(String). Já um array em NumPy é uma tabela multidimensional de elementos do mesmo tipo, indexados por uma tupla de inteiros positivos."
   ]
  },
  {
   "cell_type": "markdown",
   "id": "9452022b",
   "metadata": {},
   "source": [
    "Lista: Usada quando necessitamos de uma coleção ordenada de itens."
   ]
  },
  {
   "cell_type": "code",
   "execution_count": 3,
   "id": "47be6d1e",
   "metadata": {},
   "outputs": [
    {
     "data": {
      "text/plain": [
       "[1, 4, 5, 6, 7, 8]"
      ]
     },
     "execution_count": 3,
     "metadata": {},
     "output_type": "execute_result"
    }
   ],
   "source": [
    "Lista = [1,4,6,5,8,7]\n",
    "Lista.sort()\n",
    "Lista"
   ]
  },
  {
   "cell_type": "markdown",
   "id": "be7abff3",
   "metadata": {},
   "source": [
    "Dicionário: Usado quando tiver um conjunto de chaves exclusivas que mapeiam para valores."
   ]
  },
  {
   "cell_type": "code",
   "execution_count": 4,
   "id": "c77a3dc2",
   "metadata": {},
   "outputs": [
    {
     "data": {
      "text/plain": [
       "{'Nome': 'Zé', 'Cidade': 'Nazarezinho', 'Idade': 10, 'CPF': '000.000.000-00'}"
      ]
     },
     "execution_count": 4,
     "metadata": {},
     "output_type": "execute_result"
    }
   ],
   "source": [
    "Dicionario = {\"Nome\": \"Zé\", \"Cidade\": \"Nazarezinho\", \"Idade\": 10,\"CPF\": \"000.000.000-00\"}\n",
    "Dicionario"
   ]
  },
  {
   "cell_type": "markdown",
   "id": "70dd1a2b",
   "metadata": {},
   "source": [
    "Array Numpy: Usado quando tiver uma tabela multidimensional de elementos do mesmo tipo"
   ]
  },
  {
   "cell_type": "code",
   "execution_count": 5,
   "id": "74bc9222",
   "metadata": {},
   "outputs": [
    {
     "data": {
      "text/plain": [
       "array(['-2', '4', '7', '9'], dtype='<U11')"
      ]
     },
     "execution_count": 5,
     "metadata": {},
     "output_type": "execute_result"
    }
   ],
   "source": [
    "arr = np.array([-2, '4', 7, 9])\n",
    "arr"
   ]
  },
  {
   "cell_type": "markdown",
   "id": "ef409816",
   "metadata": {},
   "source": [
    "#### 4. Forme a matriz"
   ]
  },
  {
   "cell_type": "markdown",
   "id": "6a2e17fd",
   "metadata": {},
   "source": [
    "Matriz Formada com listas:"
   ]
  },
  {
   "cell_type": "code",
   "execution_count": 6,
   "id": "77c3ee32",
   "metadata": {
    "scrolled": true
   },
   "outputs": [
    {
     "name": "stdout",
     "output_type": "stream",
     "text": [
      "[1, 6, 11]\n",
      "[2, 7, 12]\n",
      "[3, 8, 13]\n",
      "[4, 9, 14]\n",
      "[5, 10, 15]\n"
     ]
    }
   ],
   "source": [
    "matriz = []\n",
    "a = 1\n",
    "for i in range(3):\n",
    "    linha = []\n",
    "    for j in range(1,6):\n",
    "        linha.append(a)\n",
    "        a += 1\n",
    "    matriz.append(linha)\n",
    "matriz2 = []\n",
    "\n",
    "for i in range(5):\n",
    "    linha = []\n",
    "    for j in range(3):\n",
    "        linha.append(matriz[j][i])\n",
    "    matriz2.append(linha)\n",
    "    \n",
    "for i in matriz2:\n",
    "    print(i)"
   ]
  },
  {
   "cell_type": "markdown",
   "id": "c7720e66",
   "metadata": {},
   "source": [
    "Matriz formada usando os array do Numpy:"
   ]
  },
  {
   "cell_type": "code",
   "execution_count": 7,
   "id": "7f330ed2",
   "metadata": {},
   "outputs": [
    {
     "data": {
      "text/plain": [
       "array([[ 1,  6, 11],\n",
       "       [ 2,  7, 12],\n",
       "       [ 3,  8, 13],\n",
       "       [ 4,  9, 14],\n",
       "       [ 5, 10, 15]])"
      ]
     },
     "execution_count": 7,
     "metadata": {},
     "output_type": "execute_result"
    }
   ],
   "source": [
    "a = np.arange(1,16).reshape(3,5)\n",
    "a = a.transpose()\n",
    "a"
   ]
  },
  {
   "cell_type": "markdown",
   "id": "23f37862",
   "metadata": {},
   "source": [
    "#### 5. Usando numpy, crie:"
   ]
  },
  {
   "cell_type": "markdown",
   "id": "f8019a28",
   "metadata": {},
   "source": [
    "(a) um vetor de 10 elementos entre 1 e 20"
   ]
  },
  {
   "cell_type": "code",
   "execution_count": 8,
   "id": "9f05a955",
   "metadata": {},
   "outputs": [
    {
     "data": {
      "text/plain": [
       "array([19, 13, 16,  1, 13, 15,  3, 18,  1, 14])"
      ]
     },
     "execution_count": 8,
     "metadata": {},
     "output_type": "execute_result"
    }
   ],
   "source": [
    "a = np.random.randint(1, 21, size=10)\n",
    "a"
   ]
  },
  {
   "cell_type": "markdown",
   "id": "318b51f8",
   "metadata": {},
   "source": [
    "(b) um vetor entre 1 e 20, com passo de 2"
   ]
  },
  {
   "cell_type": "code",
   "execution_count": 9,
   "id": "5a87d9eb",
   "metadata": {},
   "outputs": [
    {
     "data": {
      "text/plain": [
       "array([ 1,  3,  5,  7,  9, 11, 13, 15, 17, 19])"
      ]
     },
     "execution_count": 9,
     "metadata": {},
     "output_type": "execute_result"
    }
   ],
   "source": [
    "a = np.arange(1, 21, 2)\n",
    "a"
   ]
  },
  {
   "cell_type": "markdown",
   "id": "8faba435",
   "metadata": {},
   "source": [
    "(c) uma matriz 3x3 cujos elementos da diagonal sejam o vetor [1,2,3] e os demais\n",
    "sejam todos 0"
   ]
  },
  {
   "cell_type": "code",
   "execution_count": 10,
   "id": "803e2e64",
   "metadata": {},
   "outputs": [
    {
     "data": {
      "text/plain": [
       "array([[1, 0, 0],\n",
       "       [0, 2, 0],\n",
       "       [0, 0, 3]])"
      ]
     },
     "execution_count": 10,
     "metadata": {},
     "output_type": "execute_result"
    }
   ],
   "source": [
    "a = np.zeros((3,3))\n",
    "a = np.diag(np.arange(1,4))\n",
    "a"
   ]
  }
 ],
 "metadata": {
  "kernelspec": {
   "display_name": "Python 3",
   "language": "python",
   "name": "python3"
  },
  "language_info": {
   "codemirror_mode": {
    "name": "ipython",
    "version": 3
   },
   "file_extension": ".py",
   "mimetype": "text/x-python",
   "name": "python",
   "nbconvert_exporter": "python",
   "pygments_lexer": "ipython3",
   "version": "3.8.8"
  }
 },
 "nbformat": 4,
 "nbformat_minor": 5
}
