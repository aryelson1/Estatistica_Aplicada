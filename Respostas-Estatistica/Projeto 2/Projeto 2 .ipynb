{
 "cells": [
  {
   "cell_type": "code",
   "execution_count": 1,
   "id": "c31add07",
   "metadata": {},
   "outputs": [],
   "source": [
    "import pandas as pd\n",
    "import numpy as np\n",
    "import matplotlib.pyplot as plt\n",
    "import math\n",
    "import seaborn as sns"
   ]
  },
  {
   "cell_type": "markdown",
   "id": "d7f3d2b4",
   "metadata": {},
   "source": [
    "## 1. Preparação dos dados para a análise Antes de iniciar sua análise, é fundamental que você primeiro examine e limpe o conjunto de dados, para tornar o trabalho com ele um processo mais eficiente. Nesta parte, você praticará a correção de tipos de dados, manipulação de valores ausentes e eliminação de colunas e linhas enquanto aprende sobre o conjunto de dados do Stanford Open Policing Project.\n",
    "\n",
    "\n",
    "(a) Importe o dataset police.csv, e indique quantas variáveis estão disponíveis e quantos\n",
    "registros policiais estão catalogados;"
   ]
  },
  {
   "cell_type": "code",
   "execution_count": 2,
   "id": "c4eb4592",
   "metadata": {},
   "outputs": [
    {
     "name": "stdout",
     "output_type": "stream",
     "text": [
      "Linhas:  91741\n",
      "Colunas:  15\n"
     ]
    }
   ],
   "source": [
    "police_df = pd.read_csv('police.csv', encoding='unicode_escape')\n",
    "weather_df = pd.read_csv('weather.csv', encoding='unicode_escape')\n",
    "print(\"Linhas: \",len(police_df.index))\n",
    "print(\"Colunas: \",len(police_df.columns))"
   ]
  },
  {
   "cell_type": "markdown",
   "id": "9497d9c4",
   "metadata": {},
   "source": [
    "(b) Conte o número de dados faltosos de cada variável;"
   ]
  },
  {
   "cell_type": "code",
   "execution_count": 3,
   "id": "a921bb3e",
   "metadata": {},
   "outputs": [
    {
     "name": "stdout",
     "output_type": "stream",
     "text": [
      "Valores NaN por coluna:\n",
      "\n",
      "state                     0\n",
      "stop_date                 0\n",
      "stop_time                 0\n",
      "county_name           91741\n",
      "driver_gender          5205\n",
      "driver_race            5202\n",
      "violation_raw          5202\n",
      "violation              5202\n",
      "search_conducted          0\n",
      "search_type           88434\n",
      "stop_outcome           5202\n",
      "is_arrested            5202\n",
      "stop_duration          5202\n",
      "drugs_related_stop        0\n",
      "district                  0\n",
      "dtype: int64\n"
     ]
    }
   ],
   "source": [
    "print(\"Valores NaN por coluna:\\n\")\n",
    "print(police_df.isna().sum())"
   ]
  },
  {
   "cell_type": "markdown",
   "id": "c242cf48",
   "metadata": {},
   "source": [
    "(c) Como estamos trabalhando somente com dados de um único estado, não faz sentido\n",
    "mantermos informações de variáveis como county_name e state. Exclua essas variáveis\n",
    "do conjunto;\n"
   ]
  },
  {
   "cell_type": "code",
   "execution_count": 4,
   "id": "c4872663",
   "metadata": {},
   "outputs": [],
   "source": [
    "police_df.drop(['county_name','state'], axis=1, inplace=True)"
   ]
  },
  {
   "cell_type": "markdown",
   "id": "99ce8cbe",
   "metadata": {},
   "source": [
    "(d) Durante as análises, a coluna driver_gender será crítica para muitas de suas análises.\n",
    "Como apenas uma pequena fração das linhas está faltando driver_gender, remova\n",
    "essas linhas do conjunto de dados;\n"
   ]
  },
  {
   "cell_type": "code",
   "execution_count": 5,
   "id": "b4635504",
   "metadata": {},
   "outputs": [],
   "source": [
    "police_df = police_df.dropna(subset=[\"driver_gender\"])"
   ]
  },
  {
   "cell_type": "markdown",
   "id": "73506bea",
   "metadata": {},
   "source": [
    "(e) Vá na descrição dos dados e verifique que tipo de variável são search_conducted,\n",
    "is_arrested e district; depois compare com os tipos de dados que estão armazena-\n",
    "dos no conjunto de dados. Havendo necessidade, faça a modificação dos tipos de dados\n",
    "para essas variáveis;"
   ]
  },
  {
   "cell_type": "code",
   "execution_count": 6,
   "id": "2fb9710c",
   "metadata": {},
   "outputs": [
    {
     "name": "stdout",
     "output_type": "stream",
     "text": [
      "<class 'pandas.core.frame.DataFrame'>\n",
      "Int64Index: 86536 entries, 0 to 91740\n",
      "Data columns (total 13 columns):\n",
      " #   Column              Non-Null Count  Dtype \n",
      "---  ------              --------------  ----- \n",
      " 0   stop_date           86536 non-null  object\n",
      " 1   stop_time           86536 non-null  object\n",
      " 2   driver_gender       86536 non-null  object\n",
      " 3   driver_race         86536 non-null  object\n",
      " 4   violation_raw       86536 non-null  object\n",
      " 5   violation           86536 non-null  object\n",
      " 6   search_conducted    86536 non-null  bool  \n",
      " 7   search_type         3307 non-null   object\n",
      " 8   stop_outcome        86536 non-null  object\n",
      " 9   is_arrested         86536 non-null  object\n",
      " 10  stop_duration       86536 non-null  object\n",
      " 11  drugs_related_stop  86536 non-null  bool  \n",
      " 12  district            86536 non-null  object\n",
      "dtypes: bool(2), object(11)\n",
      "memory usage: 8.1+ MB\n"
     ]
    }
   ],
   "source": [
    "police_df.info()"
   ]
  },
  {
   "cell_type": "markdown",
   "id": "b0bd70a3",
   "metadata": {},
   "source": [
    "(f) A data e a hora de cada parada de tráfego estão armazenadas em colunas separadas:\n",
    "stop_date e stop_time. Combine essas duas colunas em uma única coluna, nomeandoa como stop_datetime e converta no formato data e hora (tipo datetime). Isso habilitará atributos baseados em data convenientes que usaremos posteriormente no projeto;"
   ]
  },
  {
   "cell_type": "code",
   "execution_count": 7,
   "id": "64365f5d",
   "metadata": {},
   "outputs": [],
   "source": [
    "police_df['stop_datetime'] = police_df[\"stop_date\"].astype(str) + \" \"+ police_df[\"stop_time\"].astype(str)\n",
    "police_df['stop_datetime'] = police_df['stop_datetime'].astype('datetime64')"
   ]
  },
  {
   "cell_type": "markdown",
   "id": "7f644561",
   "metadata": {},
   "source": [
    "(g) Por fim, transforme a coluna stop_datetime no índice do dataframe."
   ]
  },
  {
   "cell_type": "code",
   "execution_count": 8,
   "id": "9d026a54",
   "metadata": {},
   "outputs": [],
   "source": [
    "police_df = police_df.set_index('stop_datetime')"
   ]
  },
  {
   "cell_type": "markdown",
   "id": "0a9332cd",
   "metadata": {},
   "source": [
    "##  2. Análise do gênero sobre as infrações O gênero do motorista influencia o comportamento da polícia durante uma parada no trânsito? Nesta parte, você explorará essa questão enquanto pratica filtragem, agrupamento e muito mais!\n",
    "\n",
    "(a) Antes de comparar as infrações cometidas por cada gênero, você deve examinar as infrações cometidas por todos os motoristas para obter uma compreensão básica dos dados.\n",
    "Construa uma distribuição de frequências da variável violation e responda: qual a\n",
    "infração mais comum e a menos notificada?"
   ]
  },
  {
   "cell_type": "code",
   "execution_count": 9,
   "id": "0d9a1b3e",
   "metadata": {},
   "outputs": [],
   "source": [
    "# Função disponibilizada pelo professor Paulo Ribeiro, com algumas alterações no codigo.\n",
    "def dist_frequencia_classes(x, nc='auto'):\n",
    "    #função histogram do numpy para calcular as freq. absolutas e intervalos das classes\n",
    "    fa,classes= np.histogram(x, bins=nc) \n",
    "    fa = fa.astype(int)#pra transformar em int \n",
    "    #freq. relativas = freq. absolutas/no. de dados do conjunto x 100 pra forma percentual\n",
    "    fr = np.around(fa/fa.sum()*100,decimals=2) #duas casas decimais\n",
    "    #freq. cumulativa usando a função cumsum do numpy\n",
    "    #frnorm = np.around(fi/(fi.sum() * np.diff(classes)),decimals=2)\n",
    "    fc = np.cumsum(fa).astype(int) #pra transformar em int \n",
    "    # o laço a seguir serve unicamente para escrever os intervalos das classes como strings\n",
    "    # dentro do vetor 'classe_str'\n",
    "    classe_str = []\n",
    "    for i in range(len(classes)):\n",
    "        if i<=len(classes)-2:\n",
    "            classe_str.append('{:2.0f} |--  {:2.0f}' .format(classes[i] if i==0 else classes[i]+1,classes[i+1]) )\n",
    "        else:\n",
    "            break        \n",
    "    # a função retorna um dataframe, cujas linhas serão indexadas pelo vetor 'classe_str', e as \n",
    "    #colunas terão as frequências absoluta (inteira), relativa (float) e cumulativa (int) calculadas \n",
    "    return pd.DataFrame({'Classes':classe_str, \n",
    "                         'fi': fa,\n",
    "                         'fr': fr,\n",
    "                         #'frnorm':frnorm,\n",
    "                         'Fc': fc\n",
    "                        }).set_index('Classes') # transforma a coluna 'Classes' nos indices das linhas \n"
   ]
  },
  {
   "cell_type": "code",
   "execution_count": 10,
   "id": "c214f955",
   "metadata": {},
   "outputs": [],
   "source": [
    "#Ordenação dos valores do dataframe\n",
    "\n",
    "data_violation = police_df['violation'].value_counts().sort_values(ascending=True)"
   ]
  },
  {
   "cell_type": "code",
   "execution_count": 11,
   "id": "39cdf8dd",
   "metadata": {},
   "outputs": [],
   "source": [
    "at = data_violation.max() - data_violation.min()"
   ]
  },
  {
   "cell_type": "code",
   "execution_count": 12,
   "id": "3d6e2e32",
   "metadata": {},
   "outputs": [],
   "source": [
    "k = math.sqrt(len(data_violation))\n",
    "h = at/k \n",
    "h = math.ceil(h)"
   ]
  },
  {
   "cell_type": "code",
   "execution_count": 13,
   "id": "8df2b4c9",
   "metadata": {},
   "outputs": [],
   "source": [
    "frequencias = []\n",
    "\n",
    "# Menor valor da série\n",
    "menor = round(data_violation.min(),1)\n",
    "\n",
    "# Menor valor somado a amplitude\n",
    "menor_amp = round(menor+h,1)\n",
    "\n",
    "valor = menor\n",
    "while valor < data_violation.max():\n",
    "    frequencias.append('{} - {}'.format(round(valor,1),round(valor+h,1)))\n",
    "    valor += h"
   ]
  },
  {
   "cell_type": "code",
   "execution_count": 14,
   "id": "7789d98c",
   "metadata": {},
   "outputs": [
    {
     "data": {
      "text/plain": [
       "2856 - 21459     2\n",
       "21459 - 40062    2\n",
       "40062 - 58665    2\n",
       "Name: violation, dtype: int64"
      ]
     },
     "execution_count": 14,
     "metadata": {},
     "output_type": "execute_result"
    }
   ],
   "source": [
    "freq_abs = pd.qcut(data_violation,len(frequencias),labels=frequencias) \n",
    "pd.value_counts(freq_abs)"
   ]
  },
  {
   "cell_type": "code",
   "execution_count": 15,
   "id": "1b4919c7",
   "metadata": {},
   "outputs": [
    {
     "data": {
      "text/html": [
       "<div>\n",
       "<style scoped>\n",
       "    .dataframe tbody tr th:only-of-type {\n",
       "        vertical-align: middle;\n",
       "    }\n",
       "\n",
       "    .dataframe tbody tr th {\n",
       "        vertical-align: top;\n",
       "    }\n",
       "\n",
       "    .dataframe thead th {\n",
       "        text-align: right;\n",
       "    }\n",
       "</style>\n",
       "<table border=\"1\" class=\"dataframe\">\n",
       "  <thead>\n",
       "    <tr style=\"text-align: right;\">\n",
       "      <th></th>\n",
       "      <th>fi</th>\n",
       "      <th>fr</th>\n",
       "      <th>Fc</th>\n",
       "    </tr>\n",
       "    <tr>\n",
       "      <th>Classes</th>\n",
       "      <th></th>\n",
       "      <th></th>\n",
       "      <th></th>\n",
       "    </tr>\n",
       "  </thead>\n",
       "  <tbody>\n",
       "    <tr>\n",
       "      <th>2856 |--  25640</th>\n",
       "      <td>5</td>\n",
       "      <td>83.33</td>\n",
       "      <td>5</td>\n",
       "    </tr>\n",
       "    <tr>\n",
       "      <th>25640 |--  48423</th>\n",
       "      <td>1</td>\n",
       "      <td>16.67</td>\n",
       "      <td>6</td>\n",
       "    </tr>\n",
       "  </tbody>\n",
       "</table>\n",
       "</div>"
      ],
      "text/plain": [
       "                  fi     fr  Fc\n",
       "Classes                        \n",
       "2856 |--  25640    5  83.33   5\n",
       "25640 |--  48423   1  16.67   6"
      ]
     },
     "execution_count": 15,
     "metadata": {},
     "output_type": "execute_result"
    }
   ],
   "source": [
    "data_violation = dist_frequencia_classes(data_violation, nc=2)\n",
    "data_violation"
   ]
  },
  {
   "cell_type": "markdown",
   "id": "1c03f58c",
   "metadata": {},
   "source": [
    "(b) O interesse agora é responder a seguinte questão: motoristas do sexo masculino e feminino tendem a cometer diferentes tipos de infrações de trânsito? Para isso, crie uma tabela\n",
    "de contingência para frequência absoluta e outra para frequência relativa, contendo a\n",
    "distribuição conjunta das variáveis driver_gender e violation."
   ]
  },
  {
   "cell_type": "code",
   "execution_count": 16,
   "id": "f0aa8072",
   "metadata": {},
   "outputs": [],
   "source": [
    "data_group = police_df.groupby(['driver_gender', 'violation']).size().unstack(1)"
   ]
  },
  {
   "cell_type": "code",
   "execution_count": 17,
   "id": "e9105175",
   "metadata": {},
   "outputs": [],
   "source": [
    "data_group.loc['Total',:]= data_group.sum(axis=0)\n",
    "data_group.loc[:,'Total'] = data_group.sum(axis=1)"
   ]
  },
  {
   "cell_type": "code",
   "execution_count": 18,
   "id": "a1ec3d94",
   "metadata": {},
   "outputs": [
    {
     "data": {
      "text/html": [
       "<div>\n",
       "<style scoped>\n",
       "    .dataframe tbody tr th:only-of-type {\n",
       "        vertical-align: middle;\n",
       "    }\n",
       "\n",
       "    .dataframe tbody tr th {\n",
       "        vertical-align: top;\n",
       "    }\n",
       "\n",
       "    .dataframe thead th {\n",
       "        text-align: right;\n",
       "    }\n",
       "</style>\n",
       "<table border=\"1\" class=\"dataframe\">\n",
       "  <thead>\n",
       "    <tr style=\"text-align: right;\">\n",
       "      <th>violation</th>\n",
       "      <th>Equipment</th>\n",
       "      <th>Moving violation</th>\n",
       "      <th>Other</th>\n",
       "      <th>Registration/plates</th>\n",
       "      <th>Seat belt</th>\n",
       "      <th>Speeding</th>\n",
       "      <th>Total</th>\n",
       "    </tr>\n",
       "    <tr>\n",
       "      <th>driver_gender</th>\n",
       "      <th></th>\n",
       "      <th></th>\n",
       "      <th></th>\n",
       "      <th></th>\n",
       "      <th></th>\n",
       "      <th></th>\n",
       "      <th></th>\n",
       "    </tr>\n",
       "  </thead>\n",
       "  <tbody>\n",
       "    <tr>\n",
       "      <th>F</th>\n",
       "      <td>2501.0</td>\n",
       "      <td>3286.0</td>\n",
       "      <td>707.0</td>\n",
       "      <td>1056.0</td>\n",
       "      <td>578.0</td>\n",
       "      <td>15646.0</td>\n",
       "      <td>23774.0</td>\n",
       "    </tr>\n",
       "    <tr>\n",
       "      <th>M</th>\n",
       "      <td>8420.0</td>\n",
       "      <td>12938.0</td>\n",
       "      <td>3702.0</td>\n",
       "      <td>2647.0</td>\n",
       "      <td>2278.0</td>\n",
       "      <td>32777.0</td>\n",
       "      <td>62762.0</td>\n",
       "    </tr>\n",
       "    <tr>\n",
       "      <th>Total</th>\n",
       "      <td>10921.0</td>\n",
       "      <td>16224.0</td>\n",
       "      <td>4409.0</td>\n",
       "      <td>3703.0</td>\n",
       "      <td>2856.0</td>\n",
       "      <td>48423.0</td>\n",
       "      <td>86536.0</td>\n",
       "    </tr>\n",
       "  </tbody>\n",
       "</table>\n",
       "</div>"
      ],
      "text/plain": [
       "violation      Equipment  Moving violation   Other  Registration/plates  \\\n",
       "driver_gender                                                             \n",
       "F                 2501.0            3286.0   707.0               1056.0   \n",
       "M                 8420.0           12938.0  3702.0               2647.0   \n",
       "Total            10921.0           16224.0  4409.0               3703.0   \n",
       "\n",
       "violation      Seat belt  Speeding    Total  \n",
       "driver_gender                                \n",
       "F                  578.0   15646.0  23774.0  \n",
       "M                 2278.0   32777.0  62762.0  \n",
       "Total             2856.0   48423.0  86536.0  "
      ]
     },
     "execution_count": 18,
     "metadata": {},
     "output_type": "execute_result"
    }
   ],
   "source": [
    "data_group"
   ]
  },
  {
   "cell_type": "markdown",
   "id": "92d91a9d",
   "metadata": {},
   "source": [
    "(c) Construa um gráfico de barras agrupadas para ilustrar os dados das tabelas de contingência construídas;"
   ]
  },
  {
   "cell_type": "code",
   "execution_count": 19,
   "id": "e61af049",
   "metadata": {},
   "outputs": [
    {
     "data": {
      "text/plain": [
       "<AxesSubplot:xlabel='violation'>"
      ]
     },
     "execution_count": 19,
     "metadata": {},
     "output_type": "execute_result"
    },
    {
     "data": {
      "image/png": "[encoded data removed]",
      "text/plain": [
       "<Figure size 432x288 with 1 Axes>"
      ]
     },
     "metadata": {
      "needs_background": "light"
     },
     "output_type": "display_data"
    }
   ],
   "source": [
    "# Plot.\n",
    "pd.concat(\n",
    "    [data_group.mean().rename('media'), data_group.min().rename('min'), \n",
    "     data_group.max().rename('max')],\n",
    "    axis=1).plot.bar()"
   ]
  },
  {
   "cell_type": "code",
   "execution_count": 20,
   "id": "3ed7a753",
   "metadata": {},
   "outputs": [
    {
     "data": {
      "text/plain": [
       "<AxesSubplot:>"
      ]
     },
     "execution_count": 20,
     "metadata": {},
     "output_type": "execute_result"
    },
    {
     "data": {
      "image/png": "[encoded data removed]",
      "text/plain": [
       "<Figure size 432x288 with 1 Axes>"
      ]
     },
     "metadata": {
      "needs_background": "light"
     },
     "output_type": "display_data"
    }
   ],
   "source": [
    "\n",
    "pd.concat(\n",
    "    [data_violation.mean().rename('Media'), data_violation.min().rename('min'), \n",
    "     data_violation.max().rename('max')],\n",
    "    axis=1).plot.bar()"
   ]
  },
  {
   "cell_type": "markdown",
   "id": "858befec",
   "metadata": {},
   "source": [
    "(d) Quando um motorista é parado por excesso de velocidade, muitas pessoas acreditam que\n",
    "o gênero influencia se o motorista receberá uma multa ou um aviso. Você pode encontrar\n",
    "evidências disso no conjunto de dados? Para tentar responder essa pergunta, crie uma\n",
    "tabela de contingência considerando as variáveis driver_gender e stop_outcome e\n",
    "então vai comparar a porcentagem de paradas resultados de uma \"Citation\"versus um\n",
    "\"Warning\"(veja o link que descreve as variáveis caso tenha dúvidas de compreensão);\n"
   ]
  },
  {
   "cell_type": "code",
   "execution_count": 21,
   "id": "36b27277",
   "metadata": {},
   "outputs": [],
   "source": [
    "data_group_2 = police_df.groupby(['driver_gender', 'stop_outcome']).size().unstack(1)"
   ]
  },
  {
   "cell_type": "code",
   "execution_count": 22,
   "id": "553645f0",
   "metadata": {},
   "outputs": [],
   "source": [
    "data_group_2.loc['Total',:]= data_group_2.sum(axis=0)\n",
    "data_group_2.loc[:,'Total'] = data_group_2.sum(axis=1)"
   ]
  },
  {
   "cell_type": "code",
   "execution_count": 23,
   "id": "fa68ae16",
   "metadata": {},
   "outputs": [
    {
     "data": {
      "text/html": [
       "<div>\n",
       "<style scoped>\n",
       "    .dataframe tbody tr th:only-of-type {\n",
       "        vertical-align: middle;\n",
       "    }\n",
       "\n",
       "    .dataframe tbody tr th {\n",
       "        vertical-align: top;\n",
       "    }\n",
       "\n",
       "    .dataframe thead th {\n",
       "        text-align: right;\n",
       "    }\n",
       "</style>\n",
       "<table border=\"1\" class=\"dataframe\">\n",
       "  <thead>\n",
       "    <tr style=\"text-align: right;\">\n",
       "      <th>stop_outcome</th>\n",
       "      <th>Arrest Driver</th>\n",
       "      <th>Arrest Passenger</th>\n",
       "      <th>Citation</th>\n",
       "      <th>N/D</th>\n",
       "      <th>No Action</th>\n",
       "      <th>Warning</th>\n",
       "      <th>Total</th>\n",
       "    </tr>\n",
       "    <tr>\n",
       "      <th>driver_gender</th>\n",
       "      <th></th>\n",
       "      <th></th>\n",
       "      <th></th>\n",
       "      <th></th>\n",
       "      <th></th>\n",
       "      <th></th>\n",
       "      <th></th>\n",
       "    </tr>\n",
       "  </thead>\n",
       "  <tbody>\n",
       "    <tr>\n",
       "      <th>F</th>\n",
       "      <td>556.0</td>\n",
       "      <td>113.0</td>\n",
       "      <td>21251.0</td>\n",
       "      <td>168.0</td>\n",
       "      <td>201.0</td>\n",
       "      <td>1485.0</td>\n",
       "      <td>23774.0</td>\n",
       "    </tr>\n",
       "    <tr>\n",
       "      <th>M</th>\n",
       "      <td>2179.0</td>\n",
       "      <td>230.0</td>\n",
       "      <td>55840.0</td>\n",
       "      <td>439.0</td>\n",
       "      <td>423.0</td>\n",
       "      <td>3651.0</td>\n",
       "      <td>62762.0</td>\n",
       "    </tr>\n",
       "    <tr>\n",
       "      <th>Total</th>\n",
       "      <td>2735.0</td>\n",
       "      <td>343.0</td>\n",
       "      <td>77091.0</td>\n",
       "      <td>607.0</td>\n",
       "      <td>624.0</td>\n",
       "      <td>5136.0</td>\n",
       "      <td>86536.0</td>\n",
       "    </tr>\n",
       "  </tbody>\n",
       "</table>\n",
       "</div>"
      ],
      "text/plain": [
       "stop_outcome   Arrest Driver  Arrest Passenger  Citation    N/D  No Action  \\\n",
       "driver_gender                                                                \n",
       "F                      556.0             113.0   21251.0  168.0      201.0   \n",
       "M                     2179.0             230.0   55840.0  439.0      423.0   \n",
       "Total                 2735.0             343.0   77091.0  607.0      624.0   \n",
       "\n",
       "stop_outcome   Warning    Total  \n",
       "driver_gender                    \n",
       "F               1485.0  23774.0  \n",
       "M               3651.0  62762.0  \n",
       "Total           5136.0  86536.0  "
      ]
     },
     "execution_count": 23,
     "metadata": {},
     "output_type": "execute_result"
    }
   ],
   "source": [
    "data_group_2"
   ]
  },
  {
   "cell_type": "markdown",
   "id": "55630cbd",
   "metadata": {},
   "source": [
    "e) O gênero afeta a escolha de veículos a serem revistados? Para responder essa pergunta,\n",
    "primeiro, calcule a porcentagem de todas as paradas no DataFrame que resultam em\n",
    "uma revista de veículo;"
   ]
  },
  {
   "cell_type": "code",
   "execution_count": 24,
   "id": "f88c636e",
   "metadata": {},
   "outputs": [],
   "source": [
    "data_group_3 = police_df.groupby(['driver_gender', 'search_conducted']).size().unstack(1)"
   ]
  },
  {
   "cell_type": "code",
   "execution_count": 25,
   "id": "a3dfaef2",
   "metadata": {},
   "outputs": [],
   "source": [
    "data_group_3.loc['Total',:]= data_group_3.sum(axis=0)\n",
    "data_group_3.loc[:,'Total'] = data_group_3.sum(axis=1)"
   ]
  },
  {
   "cell_type": "code",
   "execution_count": 26,
   "id": "cfa1d025",
   "metadata": {},
   "outputs": [
    {
     "data": {
      "text/html": [
       "<div>\n",
       "<style scoped>\n",
       "    .dataframe tbody tr th:only-of-type {\n",
       "        vertical-align: middle;\n",
       "    }\n",
       "\n",
       "    .dataframe tbody tr th {\n",
       "        vertical-align: top;\n",
       "    }\n",
       "\n",
       "    .dataframe thead th {\n",
       "        text-align: right;\n",
       "    }\n",
       "</style>\n",
       "<table border=\"1\" class=\"dataframe\">\n",
       "  <thead>\n",
       "    <tr style=\"text-align: right;\">\n",
       "      <th>search_conducted</th>\n",
       "      <th>False</th>\n",
       "      <th>True</th>\n",
       "      <th>Total</th>\n",
       "    </tr>\n",
       "    <tr>\n",
       "      <th>driver_gender</th>\n",
       "      <th></th>\n",
       "      <th></th>\n",
       "      <th></th>\n",
       "    </tr>\n",
       "  </thead>\n",
       "  <tbody>\n",
       "    <tr>\n",
       "      <th>F</th>\n",
       "      <td>23318.0</td>\n",
       "      <td>456.0</td>\n",
       "      <td>23774.0</td>\n",
       "    </tr>\n",
       "    <tr>\n",
       "      <th>M</th>\n",
       "      <td>59911.0</td>\n",
       "      <td>2851.0</td>\n",
       "      <td>62762.0</td>\n",
       "    </tr>\n",
       "    <tr>\n",
       "      <th>Total</th>\n",
       "      <td>83229.0</td>\n",
       "      <td>3307.0</td>\n",
       "      <td>86536.0</td>\n",
       "    </tr>\n",
       "  </tbody>\n",
       "</table>\n",
       "</div>"
      ],
      "text/plain": [
       "search_conducted    False    True    Total\n",
       "driver_gender                             \n",
       "F                 23318.0   456.0  23774.0\n",
       "M                 59911.0  2851.0  62762.0\n",
       "Total             83229.0  3307.0  86536.0"
      ]
     },
     "execution_count": 26,
     "metadata": {},
     "output_type": "execute_result"
    }
   ],
   "source": [
    "data_group_3"
   ]
  },
  {
   "cell_type": "markdown",
   "id": "3b852d98",
   "metadata": {},
   "source": [
    "(f) Em seguida, filtre o DataFrame por gênero e calcule a taxa de pesquisa para cada grupo\n",
    "separadamente. Dica: você executará o mesmo cálculo para ambos os gêneros ao mesmo\n",
    "tempo usando groupby;"
   ]
  },
  {
   "cell_type": "code",
   "execution_count": 27,
   "id": "50248e13",
   "metadata": {},
   "outputs": [],
   "source": [
    "data_group_4 = police_df.groupby('driver_gender').size()"
   ]
  },
  {
   "cell_type": "code",
   "execution_count": 28,
   "id": "27b2c084",
   "metadata": {},
   "outputs": [],
   "source": [
    "data_group_4.loc['Total']= data_group_4.sum(axis=0)"
   ]
  },
  {
   "cell_type": "code",
   "execution_count": 29,
   "id": "da923a4f",
   "metadata": {},
   "outputs": [
    {
     "data": {
      "text/plain": [
       "driver_gender\n",
       "F        23774\n",
       "M        62762\n",
       "Total    86536\n",
       "dtype: int64"
      ]
     },
     "execution_count": 29,
     "metadata": {},
     "output_type": "execute_result"
    }
   ],
   "source": [
    "data_group_4"
   ]
  },
  {
   "cell_type": "markdown",
   "id": "4f581863",
   "metadata": {},
   "source": [
    "(g) Considere agora a hipótese de que a taxa de revista varia de acordo com o tipo de infração, e a diferença na taxa de revista entre homens e mulheres é porque eles tendem a\n",
    "cometer infrações diferentes. Calcule a taxa de infração para cada combinação de gênero\n",
    "e infração. Homens e mulheres são revistados com a mesma taxa para cada infração?"
   ]
  },
  {
   "cell_type": "code",
   "execution_count": 30,
   "id": "7fb0c6be",
   "metadata": {},
   "outputs": [],
   "source": [
    "data_group_5 = police_df.groupby(['driver_gender','violation']).size().unstack(1)"
   ]
  },
  {
   "cell_type": "code",
   "execution_count": 31,
   "id": "e720fa5a",
   "metadata": {},
   "outputs": [],
   "source": [
    "data_group_5.loc['Total',:]= data_group_5.sum(axis=0)\n",
    "data_group_5.loc[:,'Total'] = data_group_5.sum(axis=1)"
   ]
  },
  {
   "cell_type": "code",
   "execution_count": 32,
   "id": "24a4aa06",
   "metadata": {},
   "outputs": [
    {
     "data": {
      "text/html": [
       "<div>\n",
       "<style scoped>\n",
       "    .dataframe tbody tr th:only-of-type {\n",
       "        vertical-align: middle;\n",
       "    }\n",
       "\n",
       "    .dataframe tbody tr th {\n",
       "        vertical-align: top;\n",
       "    }\n",
       "\n",
       "    .dataframe thead th {\n",
       "        text-align: right;\n",
       "    }\n",
       "</style>\n",
       "<table border=\"1\" class=\"dataframe\">\n",
       "  <thead>\n",
       "    <tr style=\"text-align: right;\">\n",
       "      <th>violation</th>\n",
       "      <th>Equipment</th>\n",
       "      <th>Moving violation</th>\n",
       "      <th>Other</th>\n",
       "      <th>Registration/plates</th>\n",
       "      <th>Seat belt</th>\n",
       "      <th>Speeding</th>\n",
       "      <th>Total</th>\n",
       "    </tr>\n",
       "    <tr>\n",
       "      <th>driver_gender</th>\n",
       "      <th></th>\n",
       "      <th></th>\n",
       "      <th></th>\n",
       "      <th></th>\n",
       "      <th></th>\n",
       "      <th></th>\n",
       "      <th></th>\n",
       "    </tr>\n",
       "  </thead>\n",
       "  <tbody>\n",
       "    <tr>\n",
       "      <th>F</th>\n",
       "      <td>2501.0</td>\n",
       "      <td>3286.0</td>\n",
       "      <td>707.0</td>\n",
       "      <td>1056.0</td>\n",
       "      <td>578.0</td>\n",
       "      <td>15646.0</td>\n",
       "      <td>23774.0</td>\n",
       "    </tr>\n",
       "    <tr>\n",
       "      <th>M</th>\n",
       "      <td>8420.0</td>\n",
       "      <td>12938.0</td>\n",
       "      <td>3702.0</td>\n",
       "      <td>2647.0</td>\n",
       "      <td>2278.0</td>\n",
       "      <td>32777.0</td>\n",
       "      <td>62762.0</td>\n",
       "    </tr>\n",
       "    <tr>\n",
       "      <th>Total</th>\n",
       "      <td>10921.0</td>\n",
       "      <td>16224.0</td>\n",
       "      <td>4409.0</td>\n",
       "      <td>3703.0</td>\n",
       "      <td>2856.0</td>\n",
       "      <td>48423.0</td>\n",
       "      <td>86536.0</td>\n",
       "    </tr>\n",
       "  </tbody>\n",
       "</table>\n",
       "</div>"
      ],
      "text/plain": [
       "violation      Equipment  Moving violation   Other  Registration/plates  \\\n",
       "driver_gender                                                             \n",
       "F                 2501.0            3286.0   707.0               1056.0   \n",
       "M                 8420.0           12938.0  3702.0               2647.0   \n",
       "Total            10921.0           16224.0  4409.0               3703.0   \n",
       "\n",
       "violation      Seat belt  Speeding    Total  \n",
       "driver_gender                                \n",
       "F                  578.0   15646.0  23774.0  \n",
       "M                 2278.0   32777.0  62762.0  \n",
       "Total             2856.0   48423.0  86536.0  "
      ]
     },
     "execution_count": 32,
     "metadata": {},
     "output_type": "execute_result"
    }
   ],
   "source": [
    "data_group_5"
   ]
  },
  {
   "cell_type": "markdown",
   "id": "14efb3ca",
   "metadata": {},
   "source": [
    "## 3. Análise exploratória visual dos dados É mais provável que você seja preso em uma determinada hora do dia? As paradas relacionadas às drogas estão aumentando? Nesta parte, você responderá a essas e outras questões analisando o conjunto de dados visualmente, uma vez que os gráficos podem ajudá-lo a entender as tendências de uma forma que o exame dos dados brutos não pode.\n",
    "\n",
    "\n",
    "(a) Quando um policial para um motorista, uma pequena porcentagem dessas paradas termina em uma prisão. Isso é conhecido como taxa de prisão. Você descobrirá se a taxa de\n",
    "prisão varia de acordo com a hora do dia. Primeiro, você calculará a taxa de prisão em\n",
    "todas as paradas no DataFrame, calculando a média da coluna is_arrested ;"
   ]
  },
  {
   "cell_type": "code",
   "execution_count": 33,
   "id": "455e1033",
   "metadata": {},
   "outputs": [
    {
     "data": {
      "text/plain": [
       "0.0355690117407784"
      ]
     },
     "execution_count": 33,
     "metadata": {},
     "output_type": "execute_result"
    }
   ],
   "source": [
    "police_df['is_arrested'].mean()"
   ]
  },
  {
   "cell_type": "markdown",
   "id": "8c26c345",
   "metadata": {},
   "source": [
    "(b) Em seguida, você calculará a taxa de prisão por hora usando o atributo de hora do índice.\n",
    "A hora varia de 0 a 23, considerando que 0 é meia noite e 12h é meio dia. Para isso,\n",
    "agrupe (usando groupby) pelo atributo de hora do índice do DataFrame, calculando a\n",
    "média dos valores agrupados. No final crie uma nova variável hourly_arrest_rate\n",
    "com os valores encontrados da taxa de prisão por hora;"
   ]
  },
  {
   "cell_type": "code",
   "execution_count": 34,
   "id": "dc7c0be3",
   "metadata": {},
   "outputs": [],
   "source": [
    "police_df = police_df.reset_index()"
   ]
  },
  {
   "cell_type": "code",
   "execution_count": 35,
   "id": "aa86e60a",
   "metadata": {},
   "outputs": [],
   "source": [
    "police_df['hourly_arrest_rate'] = police_df.groupby(by=police_df['stop_datetime'].dt.hour, sort=False)['is_arrested'].sum()"
   ]
  },
  {
   "cell_type": "code",
   "execution_count": 36,
   "id": "7877d352",
   "metadata": {},
   "outputs": [],
   "source": [
    "df = police_df.dropna(subset=[\"hourly_arrest_rate\"])"
   ]
  },
  {
   "cell_type": "markdown",
   "id": "7722b720",
   "metadata": {},
   "source": [
    "(c) Agora crie um gráfico de linha mostrando a variável hourly_arrest_rate, colocando\n",
    "o rótulo Horas no eixo-x, e Taxa de Prisões, no eixo-y, e o título de Taxa de Prisões por Hora\n",
    "do Dia;"
   ]
  },
  {
   "cell_type": "code",
   "execution_count": 37,
   "id": "67683e30",
   "metadata": {
    "scrolled": true
   },
   "outputs": [
    {
     "data": {
      "text/plain": [
       "<AxesSubplot:>"
      ]
     },
     "execution_count": 37,
     "metadata": {},
     "output_type": "execute_result"
    },
    {
     "data": {
      "image/png": "[encoded data removed]",
      "text/plain": [
       "<Figure size 432x288 with 1 Axes>"
      ]
     },
     "metadata": {
      "needs_background": "light"
     },
     "output_type": "display_data"
    }
   ],
   "source": [
    "df['hourly_arrest_rate'].plot.bar()"
   ]
  },
  {
   "cell_type": "markdown",
   "id": "ad7bf0b7",
   "metadata": {},
   "source": [
    "(d) Em uma pequena parte das paradas de trânsito, drogas são encontradas no veículo durante uma busca. Agora, você avaliará se essas interrupções relacionadas à drogas estão\n",
    "se tornando mais comuns com o tempo. A coluna booleana drug_related_stop indica\n",
    "se drogas foram encontradas durante uma determinada parada. Você calculará a taxa\n",
    "anual de drogas reamostrando essa coluna e, em seguida, usará um gráfico de linha para\n",
    "visualizar como a taxa mudou ao longo do tempo;"
   ]
  },
  {
   "cell_type": "code",
   "execution_count": 53,
   "id": "cdecc8a2",
   "metadata": {},
   "outputs": [],
   "source": [
    "police_df['hourly_drug_rate'] = police_df.groupby(by=police_df['stop_datetime'].dt.hour, sort=False)['drugs_related_stop'].sum()"
   ]
  },
  {
   "cell_type": "code",
   "execution_count": 54,
   "id": "4a6ac048",
   "metadata": {},
   "outputs": [],
   "source": [
    "df = police_df.dropna(subset=[\"hourly_drug_rate\"])"
   ]
  },
  {
   "cell_type": "code",
   "execution_count": 55,
   "id": "5f6447a0",
   "metadata": {},
   "outputs": [
    {
     "data": {
      "text/plain": [
       "<AxesSubplot:>"
      ]
     },
     "execution_count": 55,
     "metadata": {},
     "output_type": "execute_result"
    },
    {
     "data": {
      "image/png": "[encoded data removed]",
      "text/plain": [
       "<Figure size 432x288 with 1 Axes>"
      ]
     },
     "metadata": {
      "needs_background": "light"
     },
     "output_type": "display_data"
    }
   ],
   "source": [
    "df['hourly_drug_rate'].plot.bar()"
   ]
  },
  {
   "cell_type": "markdown",
   "id": "64fb9558",
   "metadata": {},
   "source": [
    "(e) Ainda falando sobre drogas, consideremos a hipótese de que, o aumento ou a diminuição das apreensões de drogas estão associadas ao aumento ou diminuição das abordagens políciais, ou seja, mais abordagens, geram mais apreensões e menos abordagens, menos apreensões de drogas. Podemos testar essa hipótese calculando a taxa de\n",
    "abordagens anual e, em seguida, comparando-a com a taxa anual de medicamentos.\n",
    "Se a hipótese for verdadeira, você verá que ambas as taxas aumentam com o tempo.\n",
    "Para isso, calcule a taxa de pesquisa anual reamostrando a coluna search_conducted\n",
    "e salve o resultado como Annual_search_rate. Concatene Annual_drug_rate e\n",
    "Annual_search_rate ao longo do eixo das colunas e gere gráficos de linha para os\n",
    "dados desse resultado da concatenação;"
   ]
  },
  {
   "cell_type": "code",
   "execution_count": null,
   "id": "1818a351",
   "metadata": {},
   "outputs": [],
   "source": []
  },
  {
   "cell_type": "markdown",
   "id": "e6e8bf30",
   "metadata": {},
   "source": [
    "(f) O estado de Rhode Island está dividido em seis distritos policiais, também conhecidos\n",
    "como zonas. Como as zonas se comparam em termos de quais infrações são detectadas\n",
    "pela polícia? Para isso, crie uma distribuição conjunta entre as variáveis district e\n",
    "violation, usando uma tabela de contingência. Depois, selecione as linhas das zonas\n",
    "’Zona K1’ a ’Zona K3’, gere um gráfico de barras agrupadas que ilustre os resultados\n",
    "obtido na tabela, e responda a questão colocada."
   ]
  },
  {
   "cell_type": "code",
   "execution_count": 66,
   "id": "efe04ac6",
   "metadata": {},
   "outputs": [],
   "source": [
    "data_group_5 = police_df.groupby(['district','violation']).size().unstack(1)"
   ]
  },
  {
   "cell_type": "code",
   "execution_count": 67,
   "id": "1b450bd8",
   "metadata": {},
   "outputs": [],
   "source": [
    "data_group_5.loc['Total',:]= data_group_5.sum(axis=0)\n",
    "data_group_5.loc[:,'Total'] = data_group_5.sum(axis=1)"
   ]
  },
  {
   "cell_type": "code",
   "execution_count": 75,
   "id": "5600909f",
   "metadata": {},
   "outputs": [
    {
     "data": {
      "text/html": [
       "<div>\n",
       "<style scoped>\n",
       "    .dataframe tbody tr th:only-of-type {\n",
       "        vertical-align: middle;\n",
       "    }\n",
       "\n",
       "    .dataframe tbody tr th {\n",
       "        vertical-align: top;\n",
       "    }\n",
       "\n",
       "    .dataframe thead th {\n",
       "        text-align: right;\n",
       "    }\n",
       "</style>\n",
       "<table border=\"1\" class=\"dataframe\">\n",
       "  <thead>\n",
       "    <tr style=\"text-align: right;\">\n",
       "      <th>violation</th>\n",
       "      <th>Equipment</th>\n",
       "      <th>Moving violation</th>\n",
       "      <th>Other</th>\n",
       "      <th>Registration/plates</th>\n",
       "      <th>Seat belt</th>\n",
       "      <th>Speeding</th>\n",
       "      <th>Total</th>\n",
       "    </tr>\n",
       "    <tr>\n",
       "      <th>district</th>\n",
       "      <th></th>\n",
       "      <th></th>\n",
       "      <th></th>\n",
       "      <th></th>\n",
       "      <th></th>\n",
       "      <th></th>\n",
       "      <th></th>\n",
       "    </tr>\n",
       "  </thead>\n",
       "  <tbody>\n",
       "    <tr>\n",
       "      <th>Zone K1</th>\n",
       "      <td>672.0</td>\n",
       "      <td>1254.0</td>\n",
       "      <td>290.0</td>\n",
       "      <td>120.0</td>\n",
       "      <td>NaN</td>\n",
       "      <td>5960.0</td>\n",
       "      <td>8296.0</td>\n",
       "    </tr>\n",
       "    <tr>\n",
       "      <th>Zone K2</th>\n",
       "      <td>2061.0</td>\n",
       "      <td>2962.0</td>\n",
       "      <td>942.0</td>\n",
       "      <td>768.0</td>\n",
       "      <td>481.0</td>\n",
       "      <td>10448.0</td>\n",
       "      <td>17662.0</td>\n",
       "    </tr>\n",
       "    <tr>\n",
       "      <th>Zone K3</th>\n",
       "      <td>2302.0</td>\n",
       "      <td>2898.0</td>\n",
       "      <td>705.0</td>\n",
       "      <td>695.0</td>\n",
       "      <td>638.0</td>\n",
       "      <td>12322.0</td>\n",
       "      <td>19560.0</td>\n",
       "    </tr>\n",
       "    <tr>\n",
       "      <th>Zone X1</th>\n",
       "      <td>296.0</td>\n",
       "      <td>671.0</td>\n",
       "      <td>143.0</td>\n",
       "      <td>38.0</td>\n",
       "      <td>74.0</td>\n",
       "      <td>1119.0</td>\n",
       "      <td>2341.0</td>\n",
       "    </tr>\n",
       "    <tr>\n",
       "      <th>Zone X3</th>\n",
       "      <td>2049.0</td>\n",
       "      <td>3086.0</td>\n",
       "      <td>769.0</td>\n",
       "      <td>671.0</td>\n",
       "      <td>820.0</td>\n",
       "      <td>8779.0</td>\n",
       "      <td>16174.0</td>\n",
       "    </tr>\n",
       "    <tr>\n",
       "      <th>Zone X4</th>\n",
       "      <td>3541.0</td>\n",
       "      <td>5353.0</td>\n",
       "      <td>1560.0</td>\n",
       "      <td>1411.0</td>\n",
       "      <td>843.0</td>\n",
       "      <td>9795.0</td>\n",
       "      <td>22503.0</td>\n",
       "    </tr>\n",
       "    <tr>\n",
       "      <th>Total</th>\n",
       "      <td>10921.0</td>\n",
       "      <td>16224.0</td>\n",
       "      <td>4409.0</td>\n",
       "      <td>3703.0</td>\n",
       "      <td>2856.0</td>\n",
       "      <td>48423.0</td>\n",
       "      <td>86536.0</td>\n",
       "    </tr>\n",
       "  </tbody>\n",
       "</table>\n",
       "</div>"
      ],
      "text/plain": [
       "violation  Equipment  Moving violation   Other  Registration/plates  \\\n",
       "district                                                              \n",
       "Zone K1        672.0            1254.0   290.0                120.0   \n",
       "Zone K2       2061.0            2962.0   942.0                768.0   \n",
       "Zone K3       2302.0            2898.0   705.0                695.0   \n",
       "Zone X1        296.0             671.0   143.0                 38.0   \n",
       "Zone X3       2049.0            3086.0   769.0                671.0   \n",
       "Zone X4       3541.0            5353.0  1560.0               1411.0   \n",
       "Total        10921.0           16224.0  4409.0               3703.0   \n",
       "\n",
       "violation  Seat belt  Speeding    Total  \n",
       "district                                 \n",
       "Zone K1          NaN    5960.0   8296.0  \n",
       "Zone K2        481.0   10448.0  17662.0  \n",
       "Zone K3        638.0   12322.0  19560.0  \n",
       "Zone X1         74.0    1119.0   2341.0  \n",
       "Zone X3        820.0    8779.0  16174.0  \n",
       "Zone X4        843.0    9795.0  22503.0  \n",
       "Total         2856.0   48423.0  86536.0  "
      ]
     },
     "execution_count": 75,
     "metadata": {},
     "output_type": "execute_result"
    }
   ],
   "source": [
    "data_group_5"
   ]
  },
  {
   "cell_type": "code",
   "execution_count": 74,
   "id": "029b1aad",
   "metadata": {},
   "outputs": [
    {
     "data": {
      "text/plain": [
       "<AxesSubplot:xlabel='district'>"
      ]
     },
     "execution_count": 74,
     "metadata": {},
     "output_type": "execute_result"
    },
    {
     "data": {
      "image/png": "[encoded data removed]",
      "text/plain": [
       "<Figure size 432x288 with 1 Axes>"
      ]
     },
     "metadata": {
      "needs_background": "light"
     },
     "output_type": "display_data"
    }
   ],
   "source": [
    "data_group_5.plot.bar()"
   ]
  },
  {
   "cell_type": "markdown",
   "id": "e94e73f8",
   "metadata": {},
   "source": [
    "## 4. Analisando o efeito do clima no policiamento Nesta última parte, você usará um segundo conjunto de dados, weather.csv, para explorar o impacto das condições meteorológicas no comportamento da polícia durante as paradas de trânsito. Você vai praticar mesclar e remodelar conjuntos de dados, avaliando se uma fonte de dados é confiável, trabalhando com dados categóricos e outras habilidades avançadas.\n",
    "\n",
    "(a) Comece explorando as temperaturas apresentadas no conjunto de dados: carregue o conjunto, selecione as variáveis relativas à temperatura (TMIN, TAVG, TMAX), imprima as\n",
    "principais medidas resumo usando o comando describe e plote os três boxplots dessas\n",
    "variáveis em um mesmo gráfico. O que você poderia comentar sobre as temperaturas, com\n",
    "base nos resultados obtidos? PS.: ao decidir se os valores parecem razoáveis, lembre-se\n",
    "de que a temperatura é medida em graus Fahrenheit, não Celsius!"
   ]
  },
  {
   "cell_type": "code",
   "execution_count": 38,
   "id": "15516a39",
   "metadata": {},
   "outputs": [],
   "source": [
    "df_temp = weather_df[['TMIN','TAVG','TMAX']]"
   ]
  },
  {
   "cell_type": "markdown",
   "id": "7849e903",
   "metadata": {},
   "source": [
    "Calculos TMIN "
   ]
  },
  {
   "cell_type": "code",
   "execution_count": 39,
   "id": "152cda4d",
   "metadata": {},
   "outputs": [
    {
     "name": "stdout",
     "output_type": "stream",
     "text": [
      "Media: 43.48444112521783\n",
      "Mediana: 44.0\n",
      "Moda: 0    63\n",
      "dtype: int64\n"
     ]
    }
   ],
   "source": [
    "print(\"Media:\",df_temp['TMIN'].mean())\n",
    "print(\"Mediana:\",df_temp['TMIN'].median())\n",
    "print(\"Moda:\",df_temp['TMIN'].mode())"
   ]
  },
  {
   "cell_type": "markdown",
   "id": "c4666cfb",
   "metadata": {},
   "source": [
    "Calculos TAVG"
   ]
  },
  {
   "cell_type": "code",
   "execution_count": 40,
   "id": "083bcf06",
   "metadata": {},
   "outputs": [
    {
     "name": "stdout",
     "output_type": "stream",
     "text": [
      "Media: 52.49301561216105\n",
      "Mediana: 54.0\n",
      "Moda: 0    53.0\n",
      "dtype: float64\n"
     ]
    }
   ],
   "source": [
    "print(\"Media:\",df_temp['TAVG'].mean())\n",
    "print(\"Mediana:\",df_temp['TAVG'].median())\n",
    "print(\"Moda:\",df_temp['TAVG'].mode())"
   ]
  },
  {
   "cell_type": "markdown",
   "id": "09476d93",
   "metadata": {},
   "source": [
    "Calculos TMAX"
   ]
  },
  {
   "cell_type": "code",
   "execution_count": 41,
   "id": "eb6ddf40",
   "metadata": {},
   "outputs": [
    {
     "name": "stdout",
     "output_type": "stream",
     "text": [
      "Media: 61.26860841423948\n",
      "Mediana: 62.0\n",
      "Moda: 0    81\n",
      "dtype: int64\n"
     ]
    }
   ],
   "source": [
    "print(\"Media:\",df_temp['TMAX'].mean())\n",
    "print(\"Mediana:\",df_temp['TMAX'].median())\n",
    "print(\"Moda:\",df_temp['TMAX'].mode())"
   ]
  },
  {
   "cell_type": "code",
   "execution_count": 49,
   "id": "d5cb1e0a",
   "metadata": {},
   "outputs": [
    {
     "data": {
      "text/html": [
       "<div>\n",
       "<style scoped>\n",
       "    .dataframe tbody tr th:only-of-type {\n",
       "        vertical-align: middle;\n",
       "    }\n",
       "\n",
       "    .dataframe tbody tr th {\n",
       "        vertical-align: top;\n",
       "    }\n",
       "\n",
       "    .dataframe thead th {\n",
       "        text-align: right;\n",
       "    }\n",
       "</style>\n",
       "<table border=\"1\" class=\"dataframe\">\n",
       "  <thead>\n",
       "    <tr style=\"text-align: right;\">\n",
       "      <th></th>\n",
       "      <th>TMIN</th>\n",
       "      <th>TAVG</th>\n",
       "      <th>TMAX</th>\n",
       "    </tr>\n",
       "  </thead>\n",
       "  <tbody>\n",
       "    <tr>\n",
       "      <th>count</th>\n",
       "      <td>8.000000</td>\n",
       "      <td>8.000000</td>\n",
       "      <td>8.000000</td>\n",
       "    </tr>\n",
       "    <tr>\n",
       "      <th>mean</th>\n",
       "      <td>535.188092</td>\n",
       "      <td>192.540466</td>\n",
       "      <td>549.933516</td>\n",
       "    </tr>\n",
       "    <tr>\n",
       "      <th>std</th>\n",
       "      <td>1407.084789</td>\n",
       "      <td>414.742743</td>\n",
       "      <td>1401.202040</td>\n",
       "    </tr>\n",
       "    <tr>\n",
       "      <th>min</th>\n",
       "      <td>-5.000000</td>\n",
       "      <td>6.000000</td>\n",
       "      <td>15.000000</td>\n",
       "    </tr>\n",
       "    <tr>\n",
       "      <th>25%</th>\n",
       "      <td>26.755075</td>\n",
       "      <td>33.707679</td>\n",
       "      <td>39.799879</td>\n",
       "    </tr>\n",
       "    <tr>\n",
       "      <th>50%</th>\n",
       "      <td>43.742221</td>\n",
       "      <td>53.246508</td>\n",
       "      <td>61.634304</td>\n",
       "    </tr>\n",
       "    <tr>\n",
       "      <th>75%</th>\n",
       "      <td>62.750000</td>\n",
       "      <td>72.500000</td>\n",
       "      <td>83.250000</td>\n",
       "    </tr>\n",
       "    <tr>\n",
       "      <th>max</th>\n",
       "      <td>4017.000000</td>\n",
       "      <td>1217.000000</td>\n",
       "      <td>4017.000000</td>\n",
       "    </tr>\n",
       "  </tbody>\n",
       "</table>\n",
       "</div>"
      ],
      "text/plain": [
       "              TMIN         TAVG         TMAX\n",
       "count     8.000000     8.000000     8.000000\n",
       "mean    535.188092   192.540466   549.933516\n",
       "std    1407.084789   414.742743  1401.202040\n",
       "min      -5.000000     6.000000    15.000000\n",
       "25%      26.755075    33.707679    39.799879\n",
       "50%      43.742221    53.246508    61.634304\n",
       "75%      62.750000    72.500000    83.250000\n",
       "max    4017.000000  1217.000000  4017.000000"
      ]
     },
     "execution_count": 49,
     "metadata": {},
     "output_type": "execute_result"
    }
   ],
   "source": [
    "df_temp.describe()"
   ]
  },
  {
   "cell_type": "code",
   "execution_count": 50,
   "id": "203bf734",
   "metadata": {
    "scrolled": true
   },
   "outputs": [
    {
     "data": {
      "text/plain": [
       "<AxesSubplot:>"
      ]
     },
     "execution_count": 50,
     "metadata": {},
     "output_type": "execute_result"
    },
    {
     "data": {
      "image/png": "[encoded data removed]",
      "text/plain": [
       "<Figure size 432x288 with 1 Axes>"
      ]
     },
     "metadata": {
      "needs_background": "light"
     },
     "output_type": "display_data"
    }
   ],
   "source": [
    "df_temp.describe().boxplot(column=['TMIN', 'TAVG', 'TMAX'])"
   ]
  },
  {
   "cell_type": "code",
   "execution_count": 77,
   "id": "e39e0fc7",
   "metadata": {},
   "outputs": [
    {
     "name": "stdout",
     "output_type": "stream",
     "text": [
      "<class 'pandas.core.frame.DataFrame'>\n",
      "RangeIndex: 4017 entries, 0 to 4016\n",
      "Data columns (total 27 columns):\n",
      " #   Column   Non-Null Count  Dtype  \n",
      "---  ------   --------------  -----  \n",
      " 0   STATION  4017 non-null   object \n",
      " 1   DATE     4017 non-null   object \n",
      " 2   TAVG     1217 non-null   float64\n",
      " 3   TMIN     4017 non-null   int64  \n",
      " 4   TMAX     4017 non-null   int64  \n",
      " 5   AWND     4017 non-null   float64\n",
      " 6   WSF2     4017 non-null   float64\n",
      " 7   WT01     1767 non-null   float64\n",
      " 8   WT02     221 non-null    float64\n",
      " 9   WT03     224 non-null    float64\n",
      " 10  WT04     117 non-null    float64\n",
      " 11  WT05     360 non-null    float64\n",
      " 12  WT06     25 non-null     float64\n",
      " 13  WT07     79 non-null     float64\n",
      " 14  WT08     404 non-null    float64\n",
      " 15  WT09     69 non-null     float64\n",
      " 16  WT10     2 non-null      float64\n",
      " 17  WT11     1 non-null      float64\n",
      " 18  WT13     1175 non-null   float64\n",
      " 19  WT14     575 non-null    float64\n",
      " 20  WT15     6 non-null      float64\n",
      " 21  WT16     1326 non-null   float64\n",
      " 22  WT17     12 non-null     float64\n",
      " 23  WT18     345 non-null    float64\n",
      " 24  WT19     4 non-null      float64\n",
      " 25  WT21     18 non-null     float64\n",
      " 26  WT22     32 non-null     float64\n",
      "dtypes: float64(23), int64(2), object(2)\n",
      "memory usage: 847.5+ KB\n"
     ]
    }
   ],
   "source": [
    "weather_df.info()"
   ]
  },
  {
   "cell_type": "code",
   "execution_count": null,
   "id": "bbd59d94",
   "metadata": {},
   "outputs": [],
   "source": []
  }
 ],
 "metadata": {
  "kernelspec": {
   "display_name": "Python 3",
   "language": "python",
   "name": "python3"
  },
  "language_info": {
   "codemirror_mode": {
    "name": "ipython",
    "version": 3
   },
   "file_extension": ".py",
   "mimetype": "text/x-python",
   "name": "python",
   "nbconvert_exporter": "python",
   "pygments_lexer": "ipython3",
   "version": "3.8.8"
  }
 },
 "nbformat": 4,
 "nbformat_minor": 5
}
