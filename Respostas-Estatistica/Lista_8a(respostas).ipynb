{
 "cells": [
  {
   "cell_type": "code",
   "execution_count": null,
   "id": "e8632319",
   "metadata": {},
   "outputs": [],
   "source": []
  },
  {
   "cell_type": "markdown",
   "id": "bd7fbcf0",
   "metadata": {},
   "source": [
    "### 1. Determine se os dados são qualitativos ou quantitativos. Explique seu raciocínio."
   ]
  },
  {
   "cell_type": "markdown",
   "id": "74dafbb5",
   "metadata": {},
   "source": [
    "Dados quantitativos apresentam os números que comprovam os objetivos gerais da pesquisa e são tipos de dados que pode ser feito operações aritméticas, enquanto dados qualitativos permitem compreender a complexidade e os detalhes das informações obtidas."
   ]
  },
  {
   "cell_type": "markdown",
   "id": "54a0aa77",
   "metadata": {},
   "source": [
    "### (a) Alturas de balões de ar quente;\n",
    "    Quantitativo \n",
    "### (b) Capacidades de carga de caminhonetes;\n",
    "    Quantitativo\n",
    "### (c) Cores dos olhos de modelos;\n",
    "    Qualitativo\n",
    "### (d) Números de identidade de estudantes;\n",
    "    Qualitativo\n",
    "### (e) Respostas em uma pesquisa de opinião.\n",
    "    Qualitativo\n",
    "   "
   ]
  },
  {
   "cell_type": "markdown",
   "id": "0b53b863",
   "metadata": {},
   "source": [
    "### 2. Na tabela abaixo temos informações sobre o sexo, a matéria predileta (Português, Matemática, História, Geografia ou Ciências) no 2 o grau e a nota (número de questões certas) em um teste de múltipla escolha com 10 questões de matemática, ministrado no primeiro dia de aula dos calouros de Administração de uma universidade (dados fictícios).\n",
    "\n",
    "\n",
    "(a) Classifique as variáveis envolvidas;"
   ]
  },
  {
   "cell_type": "markdown",
   "id": "1bb17cc8",
   "metadata": {},
   "source": [
    "    Sexo : Qualitativo\n",
    "    Predileta : Qualitativo\n",
    "    Nota : Quantitativo"
   ]
  },
  {
   "cell_type": "markdown",
   "id": "0bc20097",
   "metadata": {},
   "source": [
    "(b) Construa a tabela de freqüências apropriada para cada uma das variáveis qualitativas."
   ]
  },
  {
   "cell_type": "markdown",
   "id": "17be4c96",
   "metadata": {},
   "source": [
    "Tabela de frequência feita a partir da variável SEXO:\n",
    "\n",
    "| Sexo | Frequência Simples ||\n",
    "|---|---|---|\n",
    "| | Absoluta | Relativa % |\n",
    "| Feminino | 21 | 50% |\n",
    "| Masculino | 21 |  50% |\n",
    "|---|---|---|\n",
    "| Total | 42 | 100% |"
   ]
  },
  {
   "cell_type": "markdown",
   "id": "99834626",
   "metadata": {},
   "source": [
    "Tabela de frequência feita a partir da variável Predileta:\n",
    "\n",
    "| Sexo | Frequência Simples ||\n",
    "|---|---|---|\n",
    "| | Absoluta | Relativa % |\n",
    "| Português | 10 | 23,8% |\n",
    "| Matemática | 14 | 33,34% |\n",
    "| História | 7 | 16,7% |\n",
    "| Geografia | 8 | 19,06% |\n",
    "| Ciências | 3 | 7,1% |\n",
    "|---|---|---|\n",
    "| Total | 42 | 100% |"
   ]
  },
  {
   "cell_type": "markdown",
   "id": "e3a1dae1",
   "metadata": {},
   "source": [
    "### 3. Considere os dados da tabela abaixo, referentes a um levantamento feito por professores da Universidade Federal de Santa Catarina (UFSC), onde o principal objetivo era avaliar os efeitos políticos dos programas de alimentação popular. Aqui temos dados referentes a 40 famílias resi- dentes no Conjunto Residencial Monte Verde, considerando as seguintes variáveis: \n",
    "\n",
    "(a) Classifique as variáveis envolvidas;"
   ]
  },
  {
   "cell_type": "markdown",
   "id": "5e004f28",
   "metadata": {},
   "source": [
    "    PAP : Qualitativo\n",
    "    GI : Qualitativo\n",
    "    RES : Quantitativo\n",
    "    RENDA : Quantitativo"
   ]
  },
  {
   "cell_type": "markdown",
   "id": "648a9730",
   "metadata": {},
   "source": [
    "Tabela de frequência feita a partir da variável PAP: variável indicadora de uso de programas de alimentação\n",
    "\n",
    "| PAP | Frequência Simples ||\n",
    "|---|---|---|\n",
    "| | Absoluta | Relativa % |\n",
    "| Participante | 24 | 60% |\n",
    "| Não Participante | 16 |  40% |\n",
    "|---|---|---|\n",
    "| Total | 40 | 100% |"
   ]
  },
  {
   "cell_type": "markdown",
   "id": "0b7f04cd",
   "metadata": {},
   "source": [
    "Tabela de frequência feita a partir da variável GI: grau de instrução do chefe da casa\n",
    "\n",
    "| GI | Frequência Simples ||\n",
    "|---|---|---|\n",
    "| | Absoluta | Relativa % |\n",
    "| nenhum grau oficialmente completo | 6 | 15% |\n",
    "| primeiro grau completo | 11 | 27,5% |\n",
    "| segundo grau completo | 23 | 57,5% |\n",
    "|---|---|---|\n",
    "| Total | 40 | 100% |"
   ]
  },
  {
   "cell_type": "code",
   "execution_count": null,
   "id": "216ec9ec",
   "metadata": {},
   "outputs": [],
   "source": []
  }
 ],
 "metadata": {
  "kernelspec": {
   "display_name": "Python 3",
   "language": "python",
   "name": "python3"
  },
  "language_info": {
   "codemirror_mode": {
    "name": "ipython",
    "version": 3
   },
   "file_extension": ".py",
   "mimetype": "text/x-python",
   "name": "python",
   "nbconvert_exporter": "python",
   "pygments_lexer": "ipython3",
   "version": "3.8.8"
  }
 },
 "nbformat": 4,
 "nbformat_minor": 5
}
