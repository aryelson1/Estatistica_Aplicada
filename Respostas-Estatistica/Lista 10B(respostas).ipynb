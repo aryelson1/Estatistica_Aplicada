{
 "cells": [
  {
   "cell_type": "code",
   "execution_count": 1,
   "id": "2cd33d0b",
   "metadata": {},
   "outputs": [],
   "source": [
    "import pandas as pd\n",
    "import numpy as np"
   ]
  },
  {
   "cell_type": "code",
   "execution_count": 2,
   "id": "8bb48fd9",
   "metadata": {},
   "outputs": [],
   "source": [
    "# Função disponibilizada pelo professor Paulo Ribeiro, com algumas alterações no codigo.\n",
    "def dist_frequencia_classes(x, nc='auto'):\n",
    "    #função histogram do numpy para calcular as freq. absolutas e intervalos das classes\n",
    "    fa,classes= np.histogram(x, bins=nc) \n",
    "    fa = fa.astype(int)#pra transformar em int \n",
    "    #freq. relativas = freq. absolutas/no. de dados do conjunto x 100 pra forma percentual\n",
    "    fr = np.around(fa/fa.sum()*100,decimals=2) #duas casas decimais\n",
    "    #freq. cumulativa usando a função cumsum do numpy\n",
    "    #frnorm = np.around(fi/(fi.sum() * np.diff(classes)),decimals=2)\n",
    "    fc = np.cumsum(fa).astype(int) #pra transformar em int \n",
    "    # o laço a seguir serve unicamente para escrever os intervalos das classes como strings\n",
    "    # dentro do vetor 'classe_str'\n",
    "    classe_str = []\n",
    "    for i in range(len(classes)):\n",
    "        if i<=len(classes)-2:\n",
    "            classe_str.append('{:2.0f} |--  {:2.0f}' .format(classes[i] if i==0 else classes[i]+1,classes[i+1]) )\n",
    "        else:\n",
    "            break        \n",
    "    # a função retorna um dataframe, cujas linhas serão indexadas pelo vetor 'classe_str', e as \n",
    "    #colunas terão as frequências absoluta (inteira), relativa (float) e cumulativa (int) calculadas \n",
    "    return pd.DataFrame({'Classes':classe_str, \n",
    "                         'fi': fa,\n",
    "                         'fr': fr,\n",
    "                         #'frnorm':frnorm,\n",
    "                         'Fc': fc\n",
    "                        }).set_index('Classes') # transforma a coluna 'Classes' nos indices das linhas \n"
   ]
  },
  {
   "cell_type": "code",
   "execution_count": 3,
   "id": "c1daa1b0",
   "metadata": {},
   "outputs": [],
   "source": [
    "df = pd.DataFrame({'Nome': ['Joao da silva ', 'Pedro fernandes' , 'Maria freitas','Paula gonçalves','ana freitas','luiz costa','andre souza','patricia silva', 'regina lima','alfredo souza','margarete cunha','pedro barbosa','ricardo alves','marcio rezende','ana carolina chaves'],\n",
    "                   'Idade': [36,51,26,25,29,53,42,38,35,45,26,37,24,31,29],\n",
    "                 'Salario': [6300,5700,4500,3800,3200,7300,7100,5600,6400,7000,3700,6500,4000,5100,4500]})"
   ]
  },
  {
   "cell_type": "markdown",
   "id": "1d9d3c86",
   "metadata": {},
   "source": [
    "# Atividade 2.1"
   ]
  },
  {
   "cell_type": "markdown",
   "id": "355de9d0",
   "metadata": {},
   "source": [
    "1. Calcular a amplitude do conjunto de dados\n",
    "\n",
    "$A = x_{max} - x_{min}$\n",
    "\n",
    "2. Calcular o número de classes (intervalos)\n",
    "\n",
    "$N_c = \\sqrt n$: raiz quadrada\n",
    "\n",
    "$N_c = 1+ 3.3log(n)$: Sturges\n",
    "\n",
    "3. Tamanho das classes\n",
    "\n",
    "$h = \\dfrac{A}{N_c}$\n",
    "\n",
    "\n",
    "#### Representação do intervalo\n",
    "\n",
    "$a \\vdash b \\Rightarrow [a,b)$"
   ]
  },
  {
   "cell_type": "code",
   "execution_count": 4,
   "id": "5090bcf3",
   "metadata": {},
   "outputs": [
    {
     "data": {
      "text/plain": [
       "29"
      ]
     },
     "execution_count": 4,
     "metadata": {},
     "output_type": "execute_result"
    }
   ],
   "source": [
    "A = df['Idade'].max() - df['Idade'].min()\n",
    "A"
   ]
  },
  {
   "cell_type": "code",
   "execution_count": 5,
   "id": "16a07d96",
   "metadata": {},
   "outputs": [
    {
     "data": {
      "text/plain": [
       "3.872983346207417"
      ]
     },
     "execution_count": 5,
     "metadata": {},
     "output_type": "execute_result"
    }
   ],
   "source": [
    "Nc = np.sqrt(len(df))\n",
    "Nc"
   ]
  },
  {
   "cell_type": "code",
   "execution_count": 6,
   "id": "6f291716",
   "metadata": {},
   "outputs": [
    {
     "data": {
      "text/plain": [
       "7.487767802667673"
      ]
     },
     "execution_count": 6,
     "metadata": {},
     "output_type": "execute_result"
    }
   ],
   "source": [
    "h = A/Nc\n",
    "h"
   ]
  },
  {
   "cell_type": "markdown",
   "id": "f21f2bab",
   "metadata": {},
   "source": [
    "##### Calculando frequencias relativa e cumulativa"
   ]
  },
  {
   "cell_type": "code",
   "execution_count": 7,
   "id": "9d7f2945",
   "metadata": {},
   "outputs": [
    {
     "data": {
      "text/plain": [
       "array([6, 2, 3, 2, 2], dtype=int64)"
      ]
     },
     "execution_count": 7,
     "metadata": {},
     "output_type": "execute_result"
    }
   ],
   "source": [
    "dados = df['Idade'].dropna()\n",
    "fi, classes = np.histogram(dados,bins=5)\n",
    "fi"
   ]
  },
  {
   "cell_type": "code",
   "execution_count": 8,
   "id": "003773a7",
   "metadata": {},
   "outputs": [
    {
     "data": {
      "text/plain": [
       "array([0.4       , 0.13333333, 0.2       , 0.13333333, 0.13333333])"
      ]
     },
     "execution_count": 8,
     "metadata": {},
     "output_type": "execute_result"
    }
   ],
   "source": [
    "fr = fi/fi.sum()\n",
    "fr"
   ]
  },
  {
   "cell_type": "code",
   "execution_count": 9,
   "id": "5436e328",
   "metadata": {},
   "outputs": [
    {
     "data": {
      "text/plain": [
       "1.0"
      ]
     },
     "execution_count": 9,
     "metadata": {},
     "output_type": "execute_result"
    }
   ],
   "source": [
    "fr.sum()"
   ]
  },
  {
   "cell_type": "code",
   "execution_count": 10,
   "id": "0492b489",
   "metadata": {},
   "outputs": [
    {
     "data": {
      "text/plain": [
       "array([0.06896552, 0.02298851, 0.03448276, 0.02298851, 0.02298851])"
      ]
     },
     "execution_count": 10,
     "metadata": {},
     "output_type": "execute_result"
    }
   ],
   "source": [
    "frn, classes = np.histogram(dados,bins=5, density=True)\n",
    "frn"
   ]
  },
  {
   "cell_type": "code",
   "execution_count": 11,
   "id": "ccaebd89",
   "metadata": {},
   "outputs": [
    {
     "data": {
      "text/plain": [
       "array([0.4       , 0.13333333, 0.2       , 0.13333333, 0.13333333])"
      ]
     },
     "execution_count": 11,
     "metadata": {},
     "output_type": "execute_result"
    }
   ],
   "source": [
    "fr = frn*np.diff(classes)\n",
    "fr"
   ]
  },
  {
   "cell_type": "code",
   "execution_count": 12,
   "id": "eba9db8d",
   "metadata": {},
   "outputs": [
    {
     "data": {
      "text/plain": [
       "array([ 6,  8, 11, 13, 15], dtype=int64)"
      ]
     },
     "execution_count": 12,
     "metadata": {},
     "output_type": "execute_result"
    }
   ],
   "source": [
    "Fc = fi.cumsum()\n",
    "Fc"
   ]
  },
  {
   "cell_type": "markdown",
   "id": "4ebbb45d",
   "metadata": {},
   "source": [
    "###### Utilizando a função Disponibilizada pelo professor Paulo Ribeiro"
   ]
  },
  {
   "cell_type": "code",
   "execution_count": 13,
   "id": "7ad3b7e3",
   "metadata": {},
   "outputs": [
    {
     "data": {
      "text/html": [
       "<div>\n",
       "<style scoped>\n",
       "    .dataframe tbody tr th:only-of-type {\n",
       "        vertical-align: middle;\n",
       "    }\n",
       "\n",
       "    .dataframe tbody tr th {\n",
       "        vertical-align: top;\n",
       "    }\n",
       "\n",
       "    .dataframe thead th {\n",
       "        text-align: right;\n",
       "    }\n",
       "</style>\n",
       "<table border=\"1\" class=\"dataframe\">\n",
       "  <thead>\n",
       "    <tr style=\"text-align: right;\">\n",
       "      <th></th>\n",
       "      <th>fi</th>\n",
       "      <th>fr</th>\n",
       "      <th>Fc</th>\n",
       "    </tr>\n",
       "    <tr>\n",
       "      <th>Classes</th>\n",
       "      <th></th>\n",
       "      <th></th>\n",
       "      <th></th>\n",
       "    </tr>\n",
       "  </thead>\n",
       "  <tbody>\n",
       "    <tr>\n",
       "      <th>24 |--  28</th>\n",
       "      <td>4</td>\n",
       "      <td>26.67</td>\n",
       "      <td>4</td>\n",
       "    </tr>\n",
       "    <tr>\n",
       "      <th>29 |--  32</th>\n",
       "      <td>3</td>\n",
       "      <td>20.00</td>\n",
       "      <td>7</td>\n",
       "    </tr>\n",
       "    <tr>\n",
       "      <th>33 |--  36</th>\n",
       "      <td>2</td>\n",
       "      <td>13.33</td>\n",
       "      <td>9</td>\n",
       "    </tr>\n",
       "    <tr>\n",
       "      <th>37 |--  41</th>\n",
       "      <td>2</td>\n",
       "      <td>13.33</td>\n",
       "      <td>11</td>\n",
       "    </tr>\n",
       "    <tr>\n",
       "      <th>42 |--  45</th>\n",
       "      <td>1</td>\n",
       "      <td>6.67</td>\n",
       "      <td>12</td>\n",
       "    </tr>\n",
       "    <tr>\n",
       "      <th>46 |--  49</th>\n",
       "      <td>1</td>\n",
       "      <td>6.67</td>\n",
       "      <td>13</td>\n",
       "    </tr>\n",
       "    <tr>\n",
       "      <th>50 |--  53</th>\n",
       "      <td>2</td>\n",
       "      <td>13.33</td>\n",
       "      <td>15</td>\n",
       "    </tr>\n",
       "  </tbody>\n",
       "</table>\n",
       "</div>"
      ],
      "text/plain": [
       "            fi     fr  Fc\n",
       "Classes                  \n",
       "24 |--  28   4  26.67   4\n",
       "29 |--  32   3  20.00   7\n",
       "33 |--  36   2  13.33   9\n",
       "37 |--  41   2  13.33  11\n",
       "42 |--  45   1   6.67  12\n",
       "46 |--  49   1   6.67  13\n",
       "50 |--  53   2  13.33  15"
      ]
     },
     "execution_count": 13,
     "metadata": {},
     "output_type": "execute_result"
    }
   ],
   "source": [
    "dist_frequencia_classes(dados, nc=7)"
   ]
  },
  {
   "cell_type": "markdown",
   "id": "97846666",
   "metadata": {},
   "source": [
    "# Atividade 2.2"
   ]
  },
  {
   "cell_type": "markdown",
   "id": "c1f2c988",
   "metadata": {},
   "source": [
    "1. Calcular a amplitude do conjunto de dados\n",
    "\n",
    "$A = x_{max} - x_{min}$\n",
    "\n",
    "2. Calcular o número de classes (intervalos)\n",
    "\n",
    "$N_c = \\sqrt n$: raiz quadrada\n",
    "\n",
    "$N_c = 1+ 3.3log(n)$: Sturges\n",
    "\n",
    "3. Tamanho das classes\n",
    "\n",
    "$h = \\dfrac{A}{N_c}$\n",
    "\n",
    "\n",
    "#### Representação do intervalo\n",
    "\n",
    "$a \\vdash b \\Rightarrow [a,b)$"
   ]
  },
  {
   "cell_type": "code",
   "execution_count": 14,
   "id": "aceab709",
   "metadata": {},
   "outputs": [
    {
     "data": {
      "text/plain": [
       "4100"
      ]
     },
     "execution_count": 14,
     "metadata": {},
     "output_type": "execute_result"
    }
   ],
   "source": [
    "A = df['Salario'].max() - df['Salario'].min()\n",
    "A"
   ]
  },
  {
   "cell_type": "code",
   "execution_count": 15,
   "id": "4eff9613",
   "metadata": {},
   "outputs": [
    {
     "data": {
      "text/plain": [
       "3.872983346207417"
      ]
     },
     "execution_count": 15,
     "metadata": {},
     "output_type": "execute_result"
    }
   ],
   "source": [
    "Nc = np.sqrt(len(df))\n",
    "Nc"
   ]
  },
  {
   "cell_type": "code",
   "execution_count": 16,
   "id": "85c9be64",
   "metadata": {},
   "outputs": [
    {
     "data": {
      "text/plain": [
       "1058.6154479633606"
      ]
     },
     "execution_count": 16,
     "metadata": {},
     "output_type": "execute_result"
    }
   ],
   "source": [
    "h = A/Nc\n",
    "h"
   ]
  },
  {
   "cell_type": "markdown",
   "id": "0163b2d0",
   "metadata": {},
   "source": [
    "##### Calculando frequencias relativa e cumulativa"
   ]
  },
  {
   "cell_type": "code",
   "execution_count": 17,
   "id": "130bafb2",
   "metadata": {},
   "outputs": [
    {
     "data": {
      "text/plain": [
       "array([4, 2, 2, 3, 4], dtype=int64)"
      ]
     },
     "execution_count": 17,
     "metadata": {},
     "output_type": "execute_result"
    }
   ],
   "source": [
    "dados = df['Salario'].dropna()\n",
    "fi, classes = np.histogram(dados,bins=5)\n",
    "fi"
   ]
  },
  {
   "cell_type": "code",
   "execution_count": 18,
   "id": "6bceb2d9",
   "metadata": {},
   "outputs": [
    {
     "data": {
      "text/plain": [
       "array([0.26666667, 0.13333333, 0.13333333, 0.2       , 0.26666667])"
      ]
     },
     "execution_count": 18,
     "metadata": {},
     "output_type": "execute_result"
    }
   ],
   "source": [
    "fr = fi/fi.sum()\n",
    "fr"
   ]
  },
  {
   "cell_type": "code",
   "execution_count": 19,
   "id": "9fd10378",
   "metadata": {},
   "outputs": [
    {
     "data": {
      "text/plain": [
       "1.0"
      ]
     },
     "execution_count": 19,
     "metadata": {},
     "output_type": "execute_result"
    }
   ],
   "source": [
    "fr.sum()"
   ]
  },
  {
   "cell_type": "code",
   "execution_count": 20,
   "id": "726665b9",
   "metadata": {},
   "outputs": [
    {
     "data": {
      "text/plain": [
       "array([0.0003252, 0.0001626, 0.0001626, 0.0002439, 0.0003252])"
      ]
     },
     "execution_count": 20,
     "metadata": {},
     "output_type": "execute_result"
    }
   ],
   "source": [
    "frn, classes = np.histogram(dados,bins=5, density=True)\n",
    "frn"
   ]
  },
  {
   "cell_type": "code",
   "execution_count": 21,
   "id": "6fecbe4d",
   "metadata": {},
   "outputs": [
    {
     "data": {
      "text/plain": [
       "array([0.26666667, 0.13333333, 0.13333333, 0.2       , 0.26666667])"
      ]
     },
     "execution_count": 21,
     "metadata": {},
     "output_type": "execute_result"
    }
   ],
   "source": [
    "fr = frn*np.diff(classes)\n",
    "fr"
   ]
  },
  {
   "cell_type": "code",
   "execution_count": 22,
   "id": "37a51412",
   "metadata": {},
   "outputs": [
    {
     "data": {
      "text/plain": [
       "array([ 4,  6,  8, 11, 15], dtype=int64)"
      ]
     },
     "execution_count": 22,
     "metadata": {},
     "output_type": "execute_result"
    }
   ],
   "source": [
    "Fc = fi.cumsum()\n",
    "Fc"
   ]
  },
  {
   "cell_type": "markdown",
   "id": "997bc18c",
   "metadata": {},
   "source": [
    "###### Utilizando a função Disponibilizada pelo professor Paulo Ribeiro"
   ]
  },
  {
   "cell_type": "code",
   "execution_count": 23,
   "id": "de525ec5",
   "metadata": {},
   "outputs": [
    {
     "data": {
      "text/html": [
       "<div>\n",
       "<style scoped>\n",
       "    .dataframe tbody tr th:only-of-type {\n",
       "        vertical-align: middle;\n",
       "    }\n",
       "\n",
       "    .dataframe tbody tr th {\n",
       "        vertical-align: top;\n",
       "    }\n",
       "\n",
       "    .dataframe thead th {\n",
       "        text-align: right;\n",
       "    }\n",
       "</style>\n",
       "<table border=\"1\" class=\"dataframe\">\n",
       "  <thead>\n",
       "    <tr style=\"text-align: right;\">\n",
       "      <th></th>\n",
       "      <th>fi</th>\n",
       "      <th>fr</th>\n",
       "      <th>Fc</th>\n",
       "    </tr>\n",
       "    <tr>\n",
       "      <th>Classes</th>\n",
       "      <th></th>\n",
       "      <th></th>\n",
       "      <th></th>\n",
       "    </tr>\n",
       "  </thead>\n",
       "  <tbody>\n",
       "    <tr>\n",
       "      <th>3200 |--  4020</th>\n",
       "      <td>4</td>\n",
       "      <td>26.67</td>\n",
       "      <td>4</td>\n",
       "    </tr>\n",
       "    <tr>\n",
       "      <th>4021 |--  4840</th>\n",
       "      <td>2</td>\n",
       "      <td>13.33</td>\n",
       "      <td>6</td>\n",
       "    </tr>\n",
       "    <tr>\n",
       "      <th>4841 |--  5660</th>\n",
       "      <td>2</td>\n",
       "      <td>13.33</td>\n",
       "      <td>8</td>\n",
       "    </tr>\n",
       "    <tr>\n",
       "      <th>5661 |--  6480</th>\n",
       "      <td>3</td>\n",
       "      <td>20.00</td>\n",
       "      <td>11</td>\n",
       "    </tr>\n",
       "    <tr>\n",
       "      <th>6481 |--  7300</th>\n",
       "      <td>4</td>\n",
       "      <td>26.67</td>\n",
       "      <td>15</td>\n",
       "    </tr>\n",
       "  </tbody>\n",
       "</table>\n",
       "</div>"
      ],
      "text/plain": [
       "                fi     fr  Fc\n",
       "Classes                      \n",
       "3200 |--  4020   4  26.67   4\n",
       "4021 |--  4840   2  13.33   6\n",
       "4841 |--  5660   2  13.33   8\n",
       "5661 |--  6480   3  20.00  11\n",
       "6481 |--  7300   4  26.67  15"
      ]
     },
     "execution_count": 23,
     "metadata": {},
     "output_type": "execute_result"
    }
   ],
   "source": [
    "dados = df['Salario'].dropna()\n",
    "dist_frequencia_classes(dados, nc=5)"
   ]
  },
  {
   "cell_type": "code",
   "execution_count": null,
   "id": "a1ceae02",
   "metadata": {},
   "outputs": [],
   "source": []
  }
 ],
 "metadata": {
  "kernelspec": {
   "display_name": "Python 3",
   "language": "python",
   "name": "python3"
  },
  "language_info": {
   "codemirror_mode": {
    "name": "ipython",
    "version": 3
   },
   "file_extension": ".py",
   "mimetype": "text/x-python",
   "name": "python",
   "nbconvert_exporter": "python",
   "pygments_lexer": "ipython3",
   "version": "3.8.8"
  }
 },
 "nbformat": 4,
 "nbformat_minor": 5
}
